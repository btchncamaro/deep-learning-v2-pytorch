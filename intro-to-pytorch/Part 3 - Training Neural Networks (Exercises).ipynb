{
 "cells": [
  {
   "cell_type": "markdown",
   "metadata": {},
   "source": [
    "# Training Neural Networks\n",
    "\n",
    "The network we built in the previous part isn't so smart, it doesn't know anything about our handwritten digits. Neural networks with non-linear activations work like universal function approximators. There is some function that maps your input to the output. For example, images of handwritten digits to class probabilities. The power of neural networks is that we can train them to approximate this function, and basically any function given enough data and compute time.\n",
    "\n",
    "<img src=\"assets/function_approx.png\" width=500px>\n",
    "\n",
    "At first the network is naive, it doesn't know the function mapping the inputs to the outputs. We train the network by showing it examples of real data, then adjusting the network parameters such that it approximates this function.\n",
    "\n",
    "To find these parameters, we need to know how poorly the network is predicting the real outputs. For this we calculate a **loss function** (also called the cost), a measure of our prediction error. For example, the mean squared loss is often used in regression and binary classification problems\n",
    "\n",
    "$$\n",
    "\\large \\ell = \\frac{1}{2n}\\sum_i^n{\\left(y_i - \\hat{y}_i\\right)^2}\n",
    "$$\n",
    "\n",
    "where $n$ is the number of training examples, $y_i$ are the true labels, and $\\hat{y}_i$ are the predicted labels.\n",
    "\n",
    "By minimizing this loss with respect to the network parameters, we can find configurations where the loss is at a minimum and the network is able to predict the correct labels with high accuracy. We find this minimum using a process called **gradient descent**. The gradient is the slope of the loss function and points in the direction of fastest change. To get to the minimum in the least amount of time, we then want to follow the gradient (downwards). You can think of this like descending a mountain by following the steepest slope to the base.\n",
    "\n",
    "<img src='assets/gradient_descent.png' width=350px>"
   ]
  },
  {
   "cell_type": "markdown",
   "metadata": {},
   "source": [
    "## Backpropagation\n",
    "\n",
    "For single layer networks, gradient descent is straightforward to implement. However, it's more complicated for deeper, multilayer neural networks like the one we've built. Complicated enough that it took about 30 years before researchers figured out how to train multilayer networks.\n",
    "\n",
    "Training multilayer networks is done through **backpropagation** which is really just an application of the chain rule from calculus. It's easiest to understand if we convert a two layer network into a graph representation.\n",
    "\n",
    "<img src='assets/backprop_diagram.png' width=550px>\n",
    "\n",
    "In the forward pass through the network, our data and operations go from bottom to top here. We pass the input $x$ through a linear transformation $L_1$ with weights $W_1$ and biases $b_1$. The output then goes through the sigmoid operation $S$ and another linear transformation $L_2$. Finally we calculate the loss $\\ell$. We use the loss as a measure of how bad the network's predictions are. The goal then is to adjust the weights and biases to minimize the loss.\n",
    "\n",
    "To train the weights with gradient descent, we propagate the gradient of the loss backwards through the network. Each operation has some gradient between the inputs and outputs. As we send the gradients backwards, we multiply the incoming gradient with the gradient for the operation. Mathematically, this is really just calculating the gradient of the loss with respect to the weights using the chain rule.\n",
    "\n",
    "$$\n",
    "\\large \\frac{\\partial \\ell}{\\partial W_1} = \\frac{\\partial L_1}{\\partial W_1} \\frac{\\partial S}{\\partial L_1} \\frac{\\partial L_2}{\\partial S} \\frac{\\partial \\ell}{\\partial L_2}\n",
    "$$\n",
    "\n",
    "**Note:** I'm glossing over a few details here that require some knowledge of vector calculus, but they aren't necessary to understand what's going on.\n",
    "\n",
    "We update our weights using this gradient with some learning rate $\\alpha$. \n",
    "\n",
    "$$\n",
    "\\large W^\\prime_1 = W_1 - \\alpha \\frac{\\partial \\ell}{\\partial W_1}\n",
    "$$\n",
    "\n",
    "The learning rate $\\alpha$ is set such that the weight update steps are small enough that the iterative method settles in a minimum."
   ]
  },
  {
   "cell_type": "markdown",
   "metadata": {},
   "source": [
    "## Losses in PyTorch\n",
    "\n",
    "Let's start by seeing how we calculate the loss with PyTorch. Through the `nn` module, PyTorch provides losses such as the cross-entropy loss (`nn.CrossEntropyLoss`). You'll usually see the loss assigned to `criterion`. As noted in the last part, with a classification problem such as MNIST, we're using the softmax function to predict class probabilities. With a softmax output, you want to use cross-entropy as the loss. To actually calculate the loss, you first define the criterion then pass in the output of your network and the correct labels.\n",
    "\n",
    "Something really important to note here. Looking at [the documentation for `nn.CrossEntropyLoss`](https://pytorch.org/docs/stable/nn.html#torch.nn.CrossEntropyLoss),\n",
    "\n",
    "> This criterion combines `nn.LogSoftmax()` and `nn.NLLLoss()` in one single class.\n",
    ">\n",
    "> The input is expected to contain scores for each class.\n",
    "\n",
    "This means we need to pass in the raw output of our network into the loss, not the output of the softmax function. This raw output is usually called the *logits* or *scores*. We use the logits because softmax gives you probabilities which will often be very close to zero or one but floating-point numbers can't accurately represent values near zero or one ([read more here](https://docs.python.org/3/tutorial/floatingpoint.html)). It's usually best to avoid doing calculations with probabilities, typically we use log-probabilities."
   ]
  },
  {
   "cell_type": "code",
   "execution_count": 1,
   "metadata": {},
   "outputs": [],
   "source": [
    "import torch\n",
    "from torch import nn\n",
    "import torch.nn.functional as F\n",
    "from torchvision import datasets, transforms\n",
    "\n",
    "# Define a transform to normalize the data\n",
    "transform = transforms.Compose([transforms.ToTensor(),\n",
    "                                transforms.Normalize((0.5,), (0.5,)),\n",
    "                              ])\n",
    "# Download and load the training data\n",
    "trainset = datasets.MNIST('~/.pytorch/MNIST_data/', download=True, train=True, transform=transform)\n",
    "trainloader = torch.utils.data.DataLoader(trainset, batch_size=64, shuffle=True)"
   ]
  },
  {
   "cell_type": "markdown",
   "metadata": {},
   "source": [
    "### Note\n",
    "If you haven't seen `nn.Sequential` yet, please finish the end of the Part 2 notebook."
   ]
  },
  {
   "cell_type": "code",
   "execution_count": 6,
   "metadata": {},
   "outputs": [
    {
     "name": "stdout",
     "output_type": "stream",
     "text": [
      "images.shape: torch.Size([64, 784])\n",
      "tensor([[ 0.1554, -0.0466,  0.2280, -0.0111,  0.0484, -0.1043, -0.0747, -0.0389,\n",
      "          0.0585, -0.1672],\n",
      "        [ 0.1145, -0.1060,  0.2036, -0.1193, -0.0952, -0.1187, -0.1457, -0.1074,\n",
      "          0.1158, -0.2099],\n",
      "        [ 0.0968, -0.0764,  0.2172, -0.0508, -0.0633, -0.0617, -0.0624, -0.1450,\n",
      "          0.0775, -0.1945],\n",
      "        [ 0.1718, -0.0580,  0.2466, -0.0162, -0.0462, -0.1321, -0.0356, -0.1013,\n",
      "          0.0595, -0.2790],\n",
      "        [ 0.0710, -0.0836,  0.2246, -0.0221, -0.0128, -0.1233, -0.0519, -0.1394,\n",
      "          0.0329, -0.2385],\n",
      "        [ 0.1365, -0.0586,  0.1410,  0.0255,  0.0295, -0.1305, -0.0329, -0.0886,\n",
      "          0.1042, -0.1484],\n",
      "        [ 0.1432, -0.0838,  0.2323, -0.0303, -0.0234, -0.1615, -0.0041, -0.0940,\n",
      "          0.0588, -0.2847],\n",
      "        [ 0.0960, -0.0672,  0.2162,  0.0156, -0.0505, -0.1182, -0.0157, -0.1448,\n",
      "          0.0573, -0.2618],\n",
      "        [ 0.1465, -0.0271,  0.2134,  0.0126,  0.0362, -0.0445, -0.0230, -0.0439,\n",
      "          0.0800, -0.1300],\n",
      "        [ 0.0856, -0.0384,  0.1635,  0.0158,  0.0411, -0.0913, -0.0419, -0.1711,\n",
      "          0.0535, -0.2006],\n",
      "        [ 0.1339, -0.1035,  0.2618, -0.0341, -0.0484, -0.1087, -0.0575, -0.0839,\n",
      "          0.0438, -0.1986],\n",
      "        [ 0.1430, -0.1139,  0.2204, -0.0452,  0.0664, -0.1566, -0.0388,  0.0438,\n",
      "          0.1573, -0.3257],\n",
      "        [ 0.0996, -0.0633,  0.1900, -0.0220, -0.0360, -0.1009, -0.0328, -0.1305,\n",
      "          0.0333, -0.2657],\n",
      "        [ 0.1364, -0.0616,  0.2157, -0.0458, -0.0238, -0.0518, -0.0958, -0.0491,\n",
      "         -0.0042, -0.1648],\n",
      "        [ 0.1126, -0.0672,  0.2163,  0.0333,  0.0089, -0.1273, -0.1129, -0.0317,\n",
      "          0.0717, -0.2916],\n",
      "        [ 0.1164, -0.0616,  0.1807,  0.0251, -0.0060, -0.1150, -0.0539, -0.0900,\n",
      "          0.0770, -0.2529],\n",
      "        [ 0.1971, -0.0825,  0.2341, -0.0361,  0.0546, -0.0689, -0.0104, -0.1100,\n",
      "          0.1082, -0.1798],\n",
      "        [ 0.1438, -0.0627,  0.2867, -0.0795, -0.0493, -0.1486, -0.0108, -0.1310,\n",
      "          0.0941, -0.2440],\n",
      "        [ 0.0344, -0.0714,  0.1860,  0.0250, -0.0239, -0.1237, -0.0812, -0.0975,\n",
      "         -0.0153, -0.2335],\n",
      "        [ 0.0920, -0.0365,  0.1580, -0.0192, -0.0238, -0.1036, -0.0263, -0.0736,\n",
      "         -0.0332, -0.1667],\n",
      "        [ 0.0466, -0.0656,  0.1381, -0.0492,  0.0642, -0.1101, -0.1042, -0.1026,\n",
      "          0.0745, -0.0396],\n",
      "        [ 0.0910, -0.0640,  0.2407, -0.0031, -0.0008,  0.0393,  0.0357, -0.1865,\n",
      "          0.0025, -0.0754],\n",
      "        [ 0.1358, -0.0368,  0.2238, -0.0386, -0.0329, -0.0567, -0.0924, -0.1596,\n",
      "          0.0146, -0.1710],\n",
      "        [ 0.1562, -0.1197,  0.2025, -0.0271,  0.0272, -0.1164, -0.0404, -0.0808,\n",
      "          0.0954, -0.2634],\n",
      "        [ 0.0282, -0.0586,  0.1105,  0.0131, -0.0017, -0.1307, -0.0915, -0.1511,\n",
      "          0.0455, -0.2018],\n",
      "        [ 0.1676, -0.0789,  0.3078, -0.0909, -0.0745, -0.0999, -0.0437, -0.1331,\n",
      "          0.0608, -0.2451],\n",
      "        [ 0.1264, -0.0897,  0.2726, -0.0490, -0.0231, -0.1632,  0.0312, -0.1317,\n",
      "          0.0085, -0.2748],\n",
      "        [ 0.0963, -0.0004,  0.2244,  0.0328, -0.0288, -0.0747, -0.0913, -0.1271,\n",
      "          0.0245, -0.2140],\n",
      "        [ 0.1608, -0.0335,  0.2586, -0.0054, -0.0011, -0.1704, -0.0918,  0.0091,\n",
      "          0.0339, -0.2924],\n",
      "        [ 0.1757, -0.0814,  0.2949, -0.0782, -0.1209, -0.0340, -0.0783, -0.1971,\n",
      "          0.0273, -0.2716],\n",
      "        [ 0.1065, -0.0556,  0.2560,  0.0234,  0.0057, -0.1172, -0.0856, -0.1006,\n",
      "          0.0563, -0.2018],\n",
      "        [ 0.1621, -0.0645,  0.1990, -0.0590,  0.0027, -0.1516, -0.1107,  0.0061,\n",
      "          0.0813, -0.2366],\n",
      "        [ 0.0907, -0.0492,  0.2347, -0.0350, -0.0300, -0.0792, -0.0009, -0.1043,\n",
      "          0.0291, -0.1514],\n",
      "        [ 0.0786, -0.0419,  0.1849, -0.0268, -0.0353, -0.1206, -0.0943, -0.1518,\n",
      "          0.0567, -0.1484],\n",
      "        [ 0.0791, -0.0325,  0.2317,  0.0111, -0.0703, -0.1189, -0.0947, -0.0876,\n",
      "          0.0769, -0.2279],\n",
      "        [ 0.1144, -0.0715,  0.2044, -0.0912, -0.0408, -0.1033, -0.0411, -0.0850,\n",
      "          0.0693, -0.1889],\n",
      "        [ 0.1445, -0.0657,  0.2072, -0.0275, -0.0376, -0.1582, -0.0795, -0.0176,\n",
      "          0.0612, -0.2728],\n",
      "        [ 0.1527, -0.0709,  0.2238, -0.0325, -0.0478, -0.1496, -0.0226, -0.0993,\n",
      "          0.0467, -0.2757],\n",
      "        [ 0.0232,  0.0004,  0.2290,  0.0240,  0.0247, -0.1136, -0.0394, -0.1177,\n",
      "          0.0534, -0.1812],\n",
      "        [ 0.1333, -0.1150,  0.2151, -0.0600, -0.0328, -0.0813, -0.0364, -0.1032,\n",
      "          0.0107, -0.1825],\n",
      "        [ 0.0938, -0.0466,  0.2481, -0.0295,  0.0169, -0.1040, -0.1434, -0.0486,\n",
      "          0.0627, -0.1380],\n",
      "        [ 0.1117, -0.0253,  0.2715, -0.0193, -0.0150, -0.1431, -0.0244, -0.1322,\n",
      "          0.0677, -0.2387],\n",
      "        [ 0.0627, -0.0172,  0.1994, -0.0502, -0.0050, -0.0692, -0.0600, -0.1250,\n",
      "          0.0651, -0.1095],\n",
      "        [ 0.1145, -0.0445,  0.2429,  0.0073, -0.0539, -0.0835, -0.0993, -0.0622,\n",
      "          0.0964, -0.1865],\n",
      "        [ 0.1252, -0.1302,  0.2577, -0.0337, -0.1450, -0.0344, -0.0969, -0.1488,\n",
      "          0.0200, -0.1946],\n",
      "        [ 0.1070,  0.0114,  0.2678, -0.0136,  0.0050, -0.0726, -0.0594, -0.1587,\n",
      "          0.0481, -0.1626],\n",
      "        [ 0.1852,  0.0009,  0.2343,  0.0021, -0.0162, -0.0714, -0.0532, -0.0325,\n",
      "          0.0238, -0.1267],\n",
      "        [ 0.0702, -0.0519,  0.1532, -0.0407,  0.0123, -0.0779, -0.0795, -0.0714,\n",
      "          0.0249, -0.1183],\n",
      "        [ 0.0607, -0.0064,  0.1537, -0.0495, -0.0653, -0.1312, -0.0855, -0.1428,\n",
      "          0.0731, -0.1657],\n",
      "        [ 0.1655, -0.0998,  0.2625, -0.0298, -0.0389, -0.1575, -0.0493, -0.0415,\n",
      "          0.1025, -0.2950],\n",
      "        [ 0.1571, -0.0406,  0.2806,  0.0552,  0.0185, -0.0357, -0.0560, -0.0751,\n",
      "          0.0462, -0.2286],\n",
      "        [ 0.1209, -0.0498,  0.2627, -0.0029, -0.0199, -0.1148, -0.0933, -0.0749,\n",
      "          0.0465, -0.2229],\n",
      "        [ 0.1398, -0.0762,  0.2263, -0.0402, -0.0293, -0.1602, -0.0259, -0.1206,\n",
      "          0.0441, -0.3072],\n",
      "        [ 0.1144, -0.0476,  0.2251, -0.0122,  0.0255, -0.1252, -0.0923, -0.0160,\n",
      "          0.0753, -0.1873],\n",
      "        [ 0.0911, -0.0131,  0.2271, -0.0008,  0.0106, -0.1308, -0.0348, -0.1244,\n",
      "          0.0273, -0.2327],\n",
      "        [ 0.1213,  0.0021,  0.2619, -0.0129,  0.0113, -0.1257, -0.0605, -0.0965,\n",
      "          0.0545, -0.2159],\n",
      "        [ 0.0949, -0.0148,  0.1440, -0.0770, -0.0042, -0.1779, -0.0779, -0.1414,\n",
      "          0.0373, -0.1339],\n",
      "        [ 0.1722, -0.0473,  0.1906, -0.0508,  0.0837, -0.1455,  0.0234, -0.0860,\n",
      "          0.0577, -0.2566],\n",
      "        [ 0.0957, -0.0205,  0.2222,  0.0372,  0.0230, -0.0956, -0.0453, -0.1151,\n",
      "          0.0234, -0.2090],\n",
      "        [ 0.1189, -0.0558,  0.1997, -0.0460, -0.0149, -0.1555, -0.0293, -0.0995,\n",
      "          0.0351, -0.2315],\n",
      "        [ 0.1117, -0.0474,  0.2561, -0.0550, -0.0417, -0.0911, -0.0311, -0.1683,\n",
      "          0.0585, -0.1642],\n",
      "        [ 0.1296, -0.0516,  0.3163, -0.0753, -0.0319, -0.1071, -0.0916, -0.1181,\n",
      "         -0.0158, -0.2385],\n",
      "        [ 0.0637, -0.0207,  0.1707, -0.0149, -0.0225, -0.0730, -0.0659, -0.1451,\n",
      "          0.0598, -0.1046],\n",
      "        [ 0.1053, -0.0673,  0.2278, -0.0187, -0.0415, -0.0968, -0.1050, -0.1546,\n",
      "          0.0432, -0.1172]], grad_fn=<AddmmBackward>)\n",
      "tensor(2.3220, grad_fn=<NllLossBackward>)\n"
     ]
    }
   ],
   "source": [
    "# Build a feed-forward network\n",
    "model = nn.Sequential(nn.Linear(784, 128),\n",
    "                      nn.ReLU(),\n",
    "                      nn.Linear(128, 64),\n",
    "                      nn.ReLU(),\n",
    "                      nn.Linear(64, 10))\n",
    "\n",
    "# Define the loss\n",
    "criterion = nn.CrossEntropyLoss()\n",
    "\n",
    "# Get our data\n",
    "images, labels = next(iter(trainloader))\n",
    "# Flatten images\n",
    "images = images.view(images.shape[0], -1)\n",
    "print(f\"images.shape: {images.shape}\")\n",
    "\n",
    "# Forward pass, get our logits\n",
    "logits = model(images)\n",
    "# Calculate the loss with the logits and the labels\n",
    "loss = criterion(logits, labels)\n",
    "\n",
    "print(logits)\n",
    "print(loss)"
   ]
  },
  {
   "cell_type": "markdown",
   "metadata": {},
   "source": [
    "In my experience it's more convenient to build the model with a log-softmax output using `nn.LogSoftmax` or `F.log_softmax` ([documentation](https://pytorch.org/docs/stable/nn.html#torch.nn.LogSoftmax)). Then you can get the actual probabilities by taking the exponential `torch.exp(output)`. With a log-softmax output, you want to use the negative log likelihood loss, `nn.NLLLoss` ([documentation](https://pytorch.org/docs/stable/nn.html#torch.nn.NLLLoss)).\n",
    "\n",
    ">**Exercise:** Build a model that returns the log-softmax as the output and calculate the loss using the negative log likelihood loss. Note that for `nn.LogSoftmax` and `F.log_softmax` you'll need to set the `dim` keyword argument appropriately. `dim=0` calculates softmax across the rows, so each column sums to 1, while `dim=1` calculates across the columns so each row sums to 1. Think about what you want the output to be and choose `dim` appropriately."
   ]
  },
  {
   "cell_type": "code",
   "execution_count": 19,
   "metadata": {},
   "outputs": [
    {
     "name": "stdout",
     "output_type": "stream",
     "text": [
      "logits.shape: torch.Size([64, 10])\n",
      "labels.shape: torch.Size([64])\n",
      "labels: tensor([5, 4, 6, 4, 7, 6, 3, 7, 8, 2, 5, 6, 1, 3, 0, 8, 4, 0, 4, 8, 9, 8, 8, 7,\n",
      "        5, 0, 9, 9, 6, 6, 1, 9, 8, 6, 4, 9, 1, 5, 5, 5, 0, 3, 0, 1, 1, 6, 0, 8,\n",
      "        9, 9, 3, 3, 5, 4, 5, 2, 2, 2, 9, 0, 3, 5, 8, 9])\n",
      "loss: 2.3123302459716797\n",
      "type(loss): <class 'torch.Tensor'>\n",
      "loss.detach().numpy(): 2.3123302459716797\n",
      "torch.from_numpy(loss.detach().numpy()): 2.3123302459716797\n",
      "tensor(2.3123)\n",
      "tensor(2.3123, grad_fn=<NllLossBackward>)\n",
      "Sequential(\n",
      "  (0): Linear(in_features=784, out_features=128, bias=True)\n",
      "  (1): ReLU()\n",
      "  (2): Linear(in_features=128, out_features=64, bias=True)\n",
      "  (3): ReLU()\n",
      "  (4): Linear(in_features=64, out_features=10, bias=True)\n",
      "  (5): LogSoftmax(dim=1)\n",
      ")\n"
     ]
    }
   ],
   "source": [
    "# TODO: Build a feed-forward network\n",
    "model = nn.Sequential(nn.Linear(784, 128),\n",
    "                      nn.ReLU(),\n",
    "                      nn.Linear(128, 64),\n",
    "                      nn.ReLU(),\n",
    "                      nn.Linear(64, 10),\n",
    "                      nn.LogSoftmax(dim=1))\n",
    "\n",
    "# TODO: Define the loss\n",
    "criterion = nn.NLLLoss()\n",
    "\n",
    "### Run this to check your work\n",
    "# Get our data\n",
    "images, labels = next(iter(trainloader))\n",
    "# Flatten images\n",
    "images = images.view(images.shape[0], -1)\n",
    "\n",
    "# Forward pass, get our logits\n",
    "logits = model(images)\n",
    "# Calculate the loss with the logits and the labels\n",
    "print(f\"logits.shape: {logits.shape}\")\n",
    "print(f\"labels.shape: {labels.shape}\")\n",
    "print(f\"labels: {labels}\")\n",
    "\n",
    "loss = criterion(logits, labels)\n",
    "\n",
    "print(f\"loss: {loss}\")\n",
    "print(f\"type(loss): {type(loss)}\")\n",
    "print(f\"loss.detach().numpy(): {loss.detach().numpy()}\")\n",
    "print(f\"torch.from_numpy(loss.detach().numpy()): {torch.from_numpy(loss.detach().numpy())}\")\n",
    "print(torch.from_numpy(loss.detach().numpy()))\n",
    "\n",
    "print(loss)\n",
    "#print(torch.exp(logits))\n",
    "print(model)"
   ]
  },
  {
   "cell_type": "markdown",
   "metadata": {},
   "source": [
    "## Autograd\n",
    "\n",
    "Now that we know how to calculate a loss, how do we use it to perform backpropagation? Torch provides a module, `autograd`, for automatically calculating the gradients of tensors. We can use it to calculate the gradients of all our parameters with respect to the loss. Autograd works by keeping track of operations performed on tensors, then going backwards through those operations, calculating gradients along the way. To make sure PyTorch keeps track of operations on a tensor and calculates the gradients, you need to set `requires_grad = True` on a tensor. You can do this at creation with the `requires_grad` keyword, or at any time with `x.requires_grad_(True)`.\n",
    "\n",
    "You can turn off gradients for a block of code with the `torch.no_grad()` content:\n",
    "```python\n",
    "x = torch.zeros(1, requires_grad=True)\n",
    ">>> with torch.no_grad():\n",
    "...     y = x * 2\n",
    ">>> y.requires_grad\n",
    "False\n",
    "```\n",
    "\n",
    "Also, you can turn on or off gradients altogether with `torch.set_grad_enabled(True|False)`.\n",
    "\n",
    "The gradients are computed with respect to some variable `z` with `z.backward()`. This does a backward pass through the operations that created `z`."
   ]
  },
  {
   "cell_type": "code",
   "execution_count": 10,
   "metadata": {},
   "outputs": [
    {
     "name": "stdout",
     "output_type": "stream",
     "text": [
      "tensor([[ 0.2755, -1.4952],\n",
      "        [ 0.0844, -1.0084]], requires_grad=True)\n"
     ]
    }
   ],
   "source": [
    "x = torch.randn(2,2, requires_grad=True)\n",
    "print(x)"
   ]
  },
  {
   "cell_type": "code",
   "execution_count": 11,
   "metadata": {},
   "outputs": [
    {
     "name": "stdout",
     "output_type": "stream",
     "text": [
      "tensor([[0.0759, 2.2357],\n",
      "        [0.0071, 1.0169]], grad_fn=<PowBackward0>)\n"
     ]
    }
   ],
   "source": [
    "y = x**2\n",
    "print(y)"
   ]
  },
  {
   "cell_type": "markdown",
   "metadata": {},
   "source": [
    "Below we can see the operation that created `y`, a power operation `PowBackward0`."
   ]
  },
  {
   "cell_type": "code",
   "execution_count": 6,
   "metadata": {},
   "outputs": [
    {
     "name": "stdout",
     "output_type": "stream",
     "text": [
      "<PowBackward0 object at 0x7ff4543cfa90>\n"
     ]
    }
   ],
   "source": [
    "## grad_fn shows the function that generated this variable\n",
    "print(y.grad_fn)"
   ]
  },
  {
   "cell_type": "markdown",
   "metadata": {},
   "source": [
    "The autograd module keeps track of these operations and knows how to calculate the gradient for each one. In this way, it's able to calculate the gradients for a chain of operations, with respect to any one tensor. Let's reduce the tensor `y` to a scalar value, the mean."
   ]
  },
  {
   "cell_type": "code",
   "execution_count": 7,
   "metadata": {},
   "outputs": [
    {
     "name": "stdout",
     "output_type": "stream",
     "text": [
      "tensor(0.9728, grad_fn=<MeanBackward0>)\n"
     ]
    }
   ],
   "source": [
    "z = y.mean()\n",
    "print(z)"
   ]
  },
  {
   "cell_type": "markdown",
   "metadata": {},
   "source": [
    "You can check the gradients for `x` and `y` but they are empty currently."
   ]
  },
  {
   "cell_type": "code",
   "execution_count": 8,
   "metadata": {},
   "outputs": [
    {
     "name": "stdout",
     "output_type": "stream",
     "text": [
      "None\n",
      "None\n"
     ]
    }
   ],
   "source": [
    "print(x.grad)\n",
    "print(y.grad)"
   ]
  },
  {
   "cell_type": "markdown",
   "metadata": {},
   "source": [
    "To calculate the gradients, you need to run the `.backward` method on a Variable, `z` for example. This will calculate the gradient for `z` with respect to `x`\n",
    "\n",
    "$$\n",
    "\\frac{\\partial z}{\\partial x} = \\frac{\\partial}{\\partial x}\\left[\\frac{1}{n}\\sum_i^n x_i^2\\right] = \\frac{x}{2}\n",
    "$$"
   ]
  },
  {
   "cell_type": "code",
   "execution_count": 9,
   "metadata": {},
   "outputs": [
    {
     "name": "stdout",
     "output_type": "stream",
     "text": [
      "tensor([[-0.3783, -0.3892],\n",
      "        [-0.1279, -0.8136]])\n",
      "tensor([[-0.3783, -0.3892],\n",
      "        [-0.1279, -0.8136]], grad_fn=<DivBackward0>)\n"
     ]
    }
   ],
   "source": [
    "z.backward()\n",
    "print(x.grad)\n",
    "print(x/2)"
   ]
  },
  {
   "cell_type": "markdown",
   "metadata": {},
   "source": [
    "These gradients calculations are particularly useful for neural networks. For training we need the gradients of the cost with respect to the weights. With PyTorch, we run data forward through the network to calculate the loss, then, go backwards to calculate the gradients with respect to the loss. Once we have the gradients we can make a gradient descent step. "
   ]
  },
  {
   "cell_type": "markdown",
   "metadata": {},
   "source": [
    "## Loss and Autograd together\n",
    "\n",
    "When we create a network with PyTorch, all of the parameters are initialized with `requires_grad = True`. This means that when we calculate the loss and call `loss.backward()`, the gradients for the parameters are calculated. These gradients are used to update the weights with gradient descent. Below you can see an example of calculating the gradients using a backwards pass."
   ]
  },
  {
   "cell_type": "code",
   "execution_count": 20,
   "metadata": {},
   "outputs": [
    {
     "name": "stdout",
     "output_type": "stream",
     "text": [
      "loss: 2.3165793418884277, logits.shape: torch.Size([64, 10])\n"
     ]
    }
   ],
   "source": [
    "# Build a feed-forward network\n",
    "model = nn.Sequential(nn.Linear(784, 128),\n",
    "                      nn.ReLU(),\n",
    "                      nn.Linear(128, 64),\n",
    "                      nn.ReLU(),\n",
    "                      nn.Linear(64, 10),\n",
    "                      nn.LogSoftmax(dim=1))\n",
    "\n",
    "criterion = nn.NLLLoss()\n",
    "images, labels = next(iter(trainloader))\n",
    "images = images.view(images.shape[0], -1)\n",
    "\n",
    "logits = model(images)\n",
    "loss = criterion(logits, labels)\n",
    "\n",
    "print(\"loss: {}, logits.shape: {}\".format(loss, logits.shape))"
   ]
  },
  {
   "cell_type": "code",
   "execution_count": 21,
   "metadata": {},
   "outputs": [
    {
     "name": "stdout",
     "output_type": "stream",
     "text": [
      "Before backward pass: \n",
      " None\n",
      "After backward pass: \n",
      " tensor([[-0.0024, -0.0024, -0.0024,  ..., -0.0024, -0.0024, -0.0024],\n",
      "        [ 0.0000,  0.0000,  0.0000,  ...,  0.0000,  0.0000,  0.0000],\n",
      "        [-0.0019, -0.0019, -0.0019,  ..., -0.0019, -0.0019, -0.0019],\n",
      "        ...,\n",
      "        [-0.0025, -0.0025, -0.0025,  ..., -0.0025, -0.0025, -0.0025],\n",
      "        [-0.0011, -0.0011, -0.0011,  ..., -0.0011, -0.0011, -0.0011],\n",
      "        [-0.0064, -0.0064, -0.0064,  ..., -0.0064, -0.0064, -0.0064]])\n"
     ]
    }
   ],
   "source": [
    "print('Before backward pass: \\n', model[0].weight.grad)\n",
    "\n",
    "loss.backward()\n",
    "\n",
    "print('After backward pass: \\n', model[0].weight.grad)"
   ]
  },
  {
   "cell_type": "markdown",
   "metadata": {},
   "source": [
    "## Training the network!\n",
    "\n",
    "There's one last piece we need to start training, an optimizer that we'll use to update the weights with the gradients. We get these from PyTorch's [`optim` package](https://pytorch.org/docs/stable/optim.html). For example we can use stochastic gradient descent with `optim.SGD`. You can see how to define an optimizer below."
   ]
  },
  {
   "cell_type": "code",
   "execution_count": 23,
   "metadata": {},
   "outputs": [],
   "source": [
    "from torch import optim\n",
    "\n",
    "# Optimizers require the parameters to optimize and a learning rate\n",
    "optimizer = optim.SGD(model.parameters(), lr=0.01)"
   ]
  },
  {
   "cell_type": "markdown",
   "metadata": {},
   "source": [
    "Now we know how to use all the individual parts so it's time to see how they work together. Let's consider just one learning step before looping through all the data. The general process with PyTorch:\n",
    "\n",
    "* Make a forward pass through the network \n",
    "* Use the network output to calculate the loss\n",
    "* Perform a backward pass through the network with `loss.backward()` to calculate the gradients\n",
    "* Take a step with the optimizer to update the weights\n",
    "\n",
    "Below I'll go through one training step and print out the weights and gradients so you can see how it changes. Note that I have a line of code `optimizer.zero_grad()`. When you do multiple backwards passes with the same parameters, the gradients are accumulated. This means that you need to zero the gradients on each training pass or you'll retain gradients from previous training batches."
   ]
  },
  {
   "cell_type": "code",
   "execution_count": 24,
   "metadata": {},
   "outputs": [
    {
     "name": "stdout",
     "output_type": "stream",
     "text": [
      "Initial weights -  Parameter containing:\n",
      "tensor([[-0.0332, -0.0054, -0.0300,  ..., -0.0201, -0.0201,  0.0094],\n",
      "        [ 0.0257,  0.0167,  0.0337,  ...,  0.0258, -0.0345, -0.0314],\n",
      "        [ 0.0070,  0.0110, -0.0337,  ..., -0.0224,  0.0043,  0.0247],\n",
      "        ...,\n",
      "        [ 0.0113,  0.0059,  0.0346,  ...,  0.0243,  0.0241,  0.0298],\n",
      "        [-0.0071, -0.0236,  0.0222,  ...,  0.0293, -0.0213,  0.0118],\n",
      "        [-0.0257,  0.0128,  0.0284,  ...,  0.0333,  0.0288, -0.0150]],\n",
      "       requires_grad=True)\n",
      "Gradient - tensor([[ 3.6125e-03,  3.6125e-03,  3.6125e-03,  ...,  3.6125e-03,\n",
      "          3.6125e-03,  3.6125e-03],\n",
      "        [ 7.7780e-05,  7.7780e-05,  7.7780e-05,  ...,  7.7780e-05,\n",
      "          7.7780e-05,  7.7780e-05],\n",
      "        [ 3.6262e-03,  3.6262e-03,  3.6262e-03,  ...,  3.6262e-03,\n",
      "          3.6262e-03,  3.6262e-03],\n",
      "        ...,\n",
      "        [ 4.3509e-03,  4.3509e-03,  4.3509e-03,  ...,  4.3509e-03,\n",
      "          4.3509e-03,  4.3509e-03],\n",
      "        [-4.7003e-04, -4.7003e-04, -4.7003e-04,  ..., -4.7003e-04,\n",
      "         -4.7003e-04, -4.7003e-04],\n",
      "        [ 2.9376e-04,  2.9376e-04,  2.9376e-04,  ...,  2.9376e-04,\n",
      "          2.9376e-04,  2.9376e-04]])\n"
     ]
    }
   ],
   "source": [
    "print('Initial weights - ', model[0].weight)\n",
    "\n",
    "images, labels = next(iter(trainloader))\n",
    "images.resize_(64, 784)\n",
    "\n",
    "# Clear the gradients, do this because gradients are accumulated\n",
    "optimizer.zero_grad()\n",
    "\n",
    "# Forward pass, then backward pass, then update weights\n",
    "output = model(images)\n",
    "loss = criterion(output, labels)\n",
    "loss.backward()\n",
    "print('Gradient -', model[0].weight.grad)"
   ]
  },
  {
   "cell_type": "code",
   "execution_count": 25,
   "metadata": {},
   "outputs": [
    {
     "name": "stdout",
     "output_type": "stream",
     "text": [
      "Updated weights -  Parameter containing:\n",
      "tensor([[-0.0332, -0.0055, -0.0300,  ..., -0.0202, -0.0202,  0.0093],\n",
      "        [ 0.0257,  0.0167,  0.0337,  ...,  0.0258, -0.0345, -0.0314],\n",
      "        [ 0.0070,  0.0110, -0.0338,  ..., -0.0224,  0.0042,  0.0247],\n",
      "        ...,\n",
      "        [ 0.0112,  0.0059,  0.0346,  ...,  0.0243,  0.0240,  0.0298],\n",
      "        [-0.0071, -0.0236,  0.0222,  ...,  0.0293, -0.0213,  0.0118],\n",
      "        [-0.0257,  0.0128,  0.0284,  ...,  0.0333,  0.0288, -0.0150]],\n",
      "       requires_grad=True)\n"
     ]
    }
   ],
   "source": [
    "# Take an update step and few the new weights\n",
    "optimizer.step()\n",
    "print('Updated weights - ', model[0].weight)"
   ]
  },
  {
   "cell_type": "markdown",
   "metadata": {},
   "source": [
    "### Training for real\n",
    "\n",
    "Now we'll put this algorithm into a loop so we can go through all the images. Some nomenclature, one pass through the entire dataset is called an *epoch*. So here we're going to loop through `trainloader` to get our training batches. For each batch, we'll doing a training pass where we calculate the loss, do a backwards pass, and update the weights.\n",
    "\n",
    ">**Exercise:** Implement the training pass for our network. If you implemented it correctly, you should see the training loss drop with each epoch."
   ]
  },
  {
   "cell_type": "code",
   "execution_count": 28,
   "metadata": {},
   "outputs": [
    {
     "name": "stdout",
     "output_type": "stream",
     "text": [
      "Current device: 0\n",
      "Cuda available: True\n",
      "device: cuda:0\n",
      "\n",
      "epoch: 0, Training loss: 1.9531316758473036\n",
      "GeForce GTX 1080 Ti\n",
      "Cuda Device Memory Usage:\n",
      "    Allocated: 0.001 GB\n",
      "    Cached:    0.002 GB\n"
     ]
    },
    {
     "name": "stderr",
     "output_type": "stream",
     "text": [
      "/home/nathan/anaconda3/envs/pytorch_171/lib/python3.8/site-packages/torch/cuda/memory.py:344: FutureWarning: torch.cuda.memory_cached has been renamed to torch.cuda.memory_reserved\n",
      "  warnings.warn(\n"
     ]
    },
    {
     "name": "stdout",
     "output_type": "stream",
     "text": [
      "\n",
      "epoch: 1, Training loss: 0.899221640310562\n",
      "GeForce GTX 1080 Ti\n",
      "Cuda Device Memory Usage:\n",
      "    Allocated: 0.001 GB\n",
      "    Cached:    0.002 GB\n",
      "\n",
      "epoch: 2, Training loss: 0.5315234214385182\n",
      "GeForce GTX 1080 Ti\n",
      "Cuda Device Memory Usage:\n",
      "    Allocated: 0.001 GB\n",
      "    Cached:    0.002 GB\n",
      "\n",
      "epoch: 3, Training loss: 0.43244921898981653\n",
      "GeForce GTX 1080 Ti\n",
      "Cuda Device Memory Usage:\n",
      "    Allocated: 0.001 GB\n",
      "    Cached:    0.002 GB\n",
      "\n",
      "epoch: 4, Training loss: 0.3882195315699079\n",
      "GeForce GTX 1080 Ti\n",
      "Cuda Device Memory Usage:\n",
      "    Allocated: 0.001 GB\n",
      "    Cached:    0.002 GB\n",
      "\n",
      "epoch: 5, Training loss: 0.3620861355048507\n",
      "GeForce GTX 1080 Ti\n",
      "Cuda Device Memory Usage:\n",
      "    Allocated: 0.001 GB\n",
      "    Cached:    0.002 GB\n",
      "\n",
      "epoch: 6, Training loss: 0.34363106546053757\n",
      "GeForce GTX 1080 Ti\n",
      "Cuda Device Memory Usage:\n",
      "    Allocated: 0.001 GB\n",
      "    Cached:    0.002 GB\n",
      "\n",
      "epoch: 7, Training loss: 0.3285738254851624\n",
      "GeForce GTX 1080 Ti\n",
      "Cuda Device Memory Usage:\n",
      "    Allocated: 0.001 GB\n",
      "    Cached:    0.002 GB\n",
      "\n",
      "epoch: 8, Training loss: 0.3165420315492509\n",
      "GeForce GTX 1080 Ti\n",
      "Cuda Device Memory Usage:\n",
      "    Allocated: 0.001 GB\n",
      "    Cached:    0.002 GB\n",
      "\n",
      "epoch: 9, Training loss: 0.30557044003722766\n",
      "GeForce GTX 1080 Ti\n",
      "Cuda Device Memory Usage:\n",
      "    Allocated: 0.001 GB\n",
      "    Cached:    0.002 GB\n"
     ]
    }
   ],
   "source": [
    "## Your solution here\n",
    "\n",
    "print(\"Current device: {}\".format(torch.cuda.current_device()))\n",
    "print(\"Cuda available: {}\".format(torch.cuda.is_available()))\n",
    "device = torch.device(\"cuda\", 0) if torch.cuda.is_available() else torch.device(\"cpu\")\n",
    "print(\"device: {}\".format(device))\n",
    "\n",
    "realModel = nn.Sequential(nn.Linear(784, 128),\n",
    "                      nn.ReLU(),\n",
    "                      nn.Linear(128, 64),\n",
    "                      nn.ReLU(),\n",
    "                      nn.Linear(64, 10),\n",
    "                      nn.LogSoftmax(dim=1)).to(device)\n",
    "    \n",
    "criterion = nn.NLLLoss()\n",
    "optimizer = optim.SGD(realModel.parameters(), lr=0.003)\n",
    "\n",
    "epochs = 10\n",
    "for e in range(epochs):\n",
    "    running_loss = 0\n",
    "    for images, labels in trainloader:\n",
    "        \n",
    "        # Flatten MNIST images into a 784 long vector\n",
    "        images = images.view(images.shape[0], -1).to(device)\n",
    "        labels = labels.to(device)\n",
    "        # TODO: Training pass\n",
    "        \n",
    "        # Clear the gradients, do this because gradients are accumulated\n",
    "        optimizer.zero_grad()\n",
    "\n",
    "        # Forward pass, then backward pass, then update weights\n",
    "        output = realModel(images)\n",
    "        loss = criterion(output, labels)\n",
    "        loss.backward()\n",
    "\n",
    "        optimizer.step()\n",
    "        \n",
    "        running_loss += loss.item()\n",
    "    else:\n",
    "        print(f\"\\nepoch: {e}, Training loss: {running_loss/len(trainloader)}\")\n",
    "        print(torch.cuda.get_device_name(0))\n",
    "        print('Cuda Device Memory Usage:')\n",
    "        print('    Allocated:', round(torch.cuda.memory_allocated(0)/1024**3,3), 'GB')\n",
    "        print('    Cached:   ', round(torch.cuda.memory_cached(0)/1024**3,3), 'GB')"
   ]
  },
  {
   "cell_type": "markdown",
   "metadata": {},
   "source": [
    "With the network trained, we can check out it's predictions."
   ]
  },
  {
   "cell_type": "code",
   "execution_count": 45,
   "metadata": {},
   "outputs": [
    {
     "data": {
      "image/png": "[encoded data removed]",
      "text/plain": [
       "<Figure size 432x648 with 2 Axes>"
      ]
     },
     "metadata": {
      "needs_background": "light"
     },
     "output_type": "display_data"
    }
   ],
   "source": [
    "%matplotlib inline\n",
    "import helper\n",
    "\n",
    "images, labels = next(iter(trainloader))\n",
    "\n",
    "img = images[0].view(1, 784).to(device)\n",
    "\n",
    "# Turn off gradients to speed up this part\n",
    "with torch.no_grad():\n",
    "    logps = realModel(img)\n",
    "\n",
    "# Output of the network are log-probabilities, need to take exponential for probabilities\n",
    "ps = torch.exp(logps)\n",
    "helper.view_classify(img.cpu().view(1, 28, 28), ps.cpu())"
   ]
  },
  {
   "cell_type": "markdown",
   "metadata": {},
   "source": [
    "Now our network is brilliant. It can accurately predict the digits in our images. Next up you'll write the code for training a neural network on a more complex dataset."
   ]
  }
 ],
 "metadata": {
  "kernelspec": {
   "display_name": "Python [conda env:pytorch_171]",
   "language": "python",
   "name": "conda-env-pytorch_171-py"
  },
  "language_info": {
   "codemirror_mode": {
    "name": "ipython",
    "version": 3
   },
   "file_extension": ".py",
   "mimetype": "text/x-python",
   "name": "python",
   "nbconvert_exporter": "python",
   "pygments_lexer": "ipython3",
   "version": "3.8.5"
  }
 },
 "nbformat": 4,
 "nbformat_minor": 2
}
