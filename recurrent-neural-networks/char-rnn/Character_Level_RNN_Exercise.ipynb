{
 "cells": [
  {
   "cell_type": "markdown",
   "metadata": {},
   "source": [
    "# Character-Level LSTM in PyTorch\n",
    "\n",
    "In this notebook, I'll construct a character-level LSTM with PyTorch. The network will train character by character on some text, then generate new text character by character. As an example, I will train on Anna Karenina. **This model will be able to generate new text based on the text from the book!**\n",
    "\n",
    "This network is based off of Andrej Karpathy's [post on RNNs](http://karpathy.github.io/2015/05/21/rnn-effectiveness/) and [implementation in Torch](https://github.com/karpathy/char-rnn). Below is the general architecture of the character-wise RNN.\n",
    "\n",
    "<img src=\"assets/charseq.jpeg\" width=\"500\">"
   ]
  },
  {
   "cell_type": "markdown",
   "metadata": {},
   "source": [
    "First let's load in our required resources for data loading and model creation."
   ]
  },
  {
   "cell_type": "code",
   "execution_count": 1,
   "metadata": {},
   "outputs": [],
   "source": [
    "import numpy as np\n",
    "import torch\n",
    "from torch import nn\n",
    "import torch.nn.functional as F"
   ]
  },
  {
   "cell_type": "markdown",
   "metadata": {},
   "source": [
    "## Load in Data\n",
    "\n",
    "Then, we'll load the Anna Karenina text file and convert it into integers for our network to use. "
   ]
  },
  {
   "cell_type": "code",
   "execution_count": 2,
   "metadata": {},
   "outputs": [],
   "source": [
    "# open text file and read in data as `text`\n",
    "with open('data/anna.txt', 'r') as f:\n",
    "    text = f.read()"
   ]
  },
  {
   "cell_type": "markdown",
   "metadata": {},
   "source": [
    "Let's check out the first 100 characters, make sure everything is peachy. According to the [American Book Review](http://americanbookreview.org/100bestlines.asp), this is the 6th best first line of a book ever."
   ]
  },
  {
   "cell_type": "code",
   "execution_count": 3,
   "metadata": {},
   "outputs": [
    {
     "name": "stdout",
     "output_type": "stream",
     "text": [
      "1985223\n",
      "Chapter 1\n",
      "\n",
      "\n",
      "Happy families are all alike; every unhappy family is unhappy in its own\n",
      "way.\n",
      "\n",
      "Everything was in confusion in the Oblonskys' house. The wife had\n",
      "discovered that the husband was carrying on\n"
     ]
    }
   ],
   "source": [
    "print(len(text))\n",
    "print(text[:200])\n",
    "#print(text)\n"
   ]
  },
  {
   "cell_type": "markdown",
   "metadata": {},
   "source": [
    "### Tokenization\n",
    "\n",
    "In the cells, below, I'm creating a couple **dictionaries** to convert the characters to and from integers. Encoding the characters as integers makes it easier to use as input in the network."
   ]
  },
  {
   "cell_type": "code",
   "execution_count": 4,
   "metadata": {},
   "outputs": [
    {
     "name": "stdout",
     "output_type": "stream",
     "text": [
      "chars: ['\\n', ' ', '!', '\"', '$', '%', '&', \"'\", '(', ')', '*', ',', '-', '.', '/', '0', '1', '2', '3', '4', '5', '6', '7', '8', '9', ':', ';', '?', '@', 'A', 'B', 'C', 'D', 'E', 'F', 'G', 'H', 'I', 'J', 'K', 'L', 'M', 'N', 'O', 'P', 'Q', 'R', 'S', 'T', 'U', 'V', 'W', 'X', 'Y', 'Z', '_', '`', 'a', 'b', 'c', 'd', 'e', 'f', 'g', 'h', 'i', 'j', 'k', 'l', 'm', 'n', 'o', 'p', 'q', 'r', 's', 't', 'u', 'v', 'w', 'x', 'y', 'z']\n",
      "\n",
      "int2char: {0: '\\n', 1: ' ', 2: '!', 3: '\"', 4: '$', 5: '%', 6: '&', 7: \"'\", 8: '(', 9: ')', 10: '*', 11: ',', 12: '-', 13: '.', 14: '/', 15: '0', 16: '1', 17: '2', 18: '3', 19: '4', 20: '5', 21: '6', 22: '7', 23: '8', 24: '9', 25: ':', 26: ';', 27: '?', 28: '@', 29: 'A', 30: 'B', 31: 'C', 32: 'D', 33: 'E', 34: 'F', 35: 'G', 36: 'H', 37: 'I', 38: 'J', 39: 'K', 40: 'L', 41: 'M', 42: 'N', 43: 'O', 44: 'P', 45: 'Q', 46: 'R', 47: 'S', 48: 'T', 49: 'U', 50: 'V', 51: 'W', 52: 'X', 53: 'Y', 54: 'Z', 55: '_', 56: '`', 57: 'a', 58: 'b', 59: 'c', 60: 'd', 61: 'e', 62: 'f', 63: 'g', 64: 'h', 65: 'i', 66: 'j', 67: 'k', 68: 'l', 69: 'm', 70: 'n', 71: 'o', 72: 'p', 73: 'q', 74: 'r', 75: 's', 76: 't', 77: 'u', 78: 'v', 79: 'w', 80: 'x', 81: 'y', 82: 'z'}\n",
      "\n",
      "char2int: {'\\n': 0, ' ': 1, '!': 2, '\"': 3, '$': 4, '%': 5, '&': 6, \"'\": 7, '(': 8, ')': 9, '*': 10, ',': 11, '-': 12, '.': 13, '/': 14, '0': 15, '1': 16, '2': 17, '3': 18, '4': 19, '5': 20, '6': 21, '7': 22, '8': 23, '9': 24, ':': 25, ';': 26, '?': 27, '@': 28, 'A': 29, 'B': 30, 'C': 31, 'D': 32, 'E': 33, 'F': 34, 'G': 35, 'H': 36, 'I': 37, 'J': 38, 'K': 39, 'L': 40, 'M': 41, 'N': 42, 'O': 43, 'P': 44, 'Q': 45, 'R': 46, 'S': 47, 'T': 48, 'U': 49, 'V': 50, 'W': 51, 'X': 52, 'Y': 53, 'Z': 54, '_': 55, '`': 56, 'a': 57, 'b': 58, 'c': 59, 'd': 60, 'e': 61, 'f': 62, 'g': 63, 'h': 64, 'i': 65, 'j': 66, 'k': 67, 'l': 68, 'm': 69, 'n': 70, 'o': 71, 'p': 72, 'q': 73, 'r': 74, 's': 75, 't': 76, 'u': 77, 'v': 78, 'w': 79, 'x': 80, 'y': 81, 'z': 82}\n",
      "\n",
      "Chapter 1\n",
      "\n",
      "\n",
      "Happy families are all alike; every unhappy family is unhappy in its own\n",
      "way.\n",
      "\n",
      "Everything was in confusion in the Oblonskys' house. The wife had\n",
      "discovered that the husband was carrying on\n"
     ]
    }
   ],
   "source": [
    "# encode the text and map each character to an integer and vice versa\n",
    "\n",
    "# we create two dictionaries:\n",
    "# 1. int2char, which maps integers to characters\n",
    "# 2. char2int, which maps characters to unique integers\n",
    "chars = tuple(set(text))\n",
    "chars = sorted(chars)\n",
    "print(\"chars: {}\".format(chars))\n",
    "\n",
    "int2char = dict(enumerate(chars))\n",
    "print(\"\\nint2char: {}\".format(int2char))\n",
    "\n",
    "char2int = {ch: ii for ii, ch in int2char.items()}\n",
    "print(\"\\nchar2int: {}\".format(char2int))\n",
    "\n",
    "# encode the text\n",
    "encoded = np.array([char2int[ch] for ch in text])\n",
    "\n",
    "#iterate throught the encoded characters (ints) and convert them back into letters to make sure the \n",
    "#conversions work as expected.\n",
    "test_output = ''\n",
    "for i in range(200):\n",
    "    test_output += int2char[encoded[i]]\n",
    "    \n",
    "print('\\n' + test_output)"
   ]
  },
  {
   "cell_type": "markdown",
   "metadata": {},
   "source": [
    "And we can see those same characters from above, encoded as integers."
   ]
  },
  {
   "cell_type": "code",
   "execution_count": 5,
   "metadata": {},
   "outputs": [
    {
     "data": {
      "text/plain": [
       "array([31, 64, 57, 72, 76, 61, 74,  1, 16,  0,  0,  0, 36, 57, 72, 72, 81,\n",
       "        1, 62, 57, 69, 65, 68, 65, 61, 75,  1, 57, 74, 61,  1, 57, 68, 68,\n",
       "        1, 57, 68, 65, 67, 61, 26,  1, 61, 78, 61, 74, 81,  1, 77, 70, 64,\n",
       "       57, 72, 72, 81,  1, 62, 57, 69, 65, 68, 81,  1, 65, 75,  1, 77, 70,\n",
       "       64, 57, 72, 72, 81,  1, 65, 70,  1, 65, 76, 75,  1, 71, 79, 70,  0,\n",
       "       79, 57, 81, 13,  0,  0, 33, 78, 61, 74, 81, 76, 64, 65, 70])"
      ]
     },
     "execution_count": 5,
     "metadata": {},
     "output_type": "execute_result"
    }
   ],
   "source": [
    "encoded[:100]"
   ]
  },
  {
   "cell_type": "markdown",
   "metadata": {},
   "source": [
    "## Pre-processing the data\n",
    "\n",
    "As you can see in our char-RNN image above, our LSTM expects an input that is **one-hot encoded** meaning that each character is converted into an integer (via our created dictionary) and *then* converted into a column vector where only it's corresponding integer index will have the value of 1 and the rest of the vector will be filled with 0's. Since we're one-hot encoding the data, let's make a function to do that!\n"
   ]
  },
  {
   "cell_type": "code",
   "execution_count": 6,
   "metadata": {},
   "outputs": [
    {
     "name": "stdout",
     "output_type": "stream",
     "text": [
      "[31 64 57 72 76 61 74  1 16  0  0  0 36 57 72 72 81  1 62 57 69 65 68 65\n",
      " 61 75  1 57 74 61  1 57 68 68  1 57 68 65 67 61 26  1 61 78 61 74 81  1\n",
      " 77 70 64 57 72 72 81  1 62 57 69 65 68 81  1 65 75  1 77 70 64 57 72 72\n",
      " 81  1 65 70  1 65 76 75  1 71 79 70  0 79 57 81 13  0  0 33 78 61 74 81\n",
      " 76 64 65 70]\n",
      "\n",
      "Chapter 1\n",
      "\n",
      "\n",
      "Happy families are all alike; every unhappy family is unhappy in its own\n",
      "way.\n",
      "\n",
      "Everythin\n"
     ]
    }
   ],
   "source": [
    "def one_hot_encode(arr, n_labels):\n",
    "    \n",
    "    # Initialize the the encoded array\n",
    "    one_hot = np.zeros((arr.size, n_labels), dtype=np.float32)\n",
    "    \n",
    "    # Fill the appropriate elements with ones\n",
    "    one_hot[np.arange(one_hot.shape[0]), arr.flatten()] = 1.\n",
    "    \n",
    "    # Finally reshape it to get back to the original array\n",
    "    one_hot = one_hot.reshape((*arr.shape, n_labels))\n",
    "    \n",
    "    return one_hot\n",
    "\n",
    "#test it out...\n",
    "#get an array of one-hot arrays representing the first characters in the text\n",
    "test_one_hots = one_hot_encode(encoded[:100], len(chars))\n",
    "#print(test_one_hots)\n",
    "#get the indexes of those one-hots to effectively re-create the encoded array\n",
    "test_encoded_ints = np.argmax(test_one_hots, axis=1)\n",
    "print(test_encoded_ints)\n",
    "#now, loop through the encoded ints to covert back into text and display\n",
    "test_output = ''\n",
    "for i in range(len(test_encoded_ints)):\n",
    "    test_output += int2char[test_encoded_ints[i]]\n",
    "    \n",
    "print('\\n' + test_output)"
   ]
  },
  {
   "cell_type": "code",
   "execution_count": 7,
   "metadata": {},
   "outputs": [
    {
     "name": "stdout",
     "output_type": "stream",
     "text": [
      "[[[0. 0. 0. 1. 0. 0. 0. 0.]\n",
      "  [0. 0. 0. 0. 0. 1. 0. 0.]\n",
      "  [0. 1. 0. 0. 0. 0. 0. 0.]]]\n"
     ]
    }
   ],
   "source": [
    "# check that the function works as expected\n",
    "test_seq = np.array([[3, 5, 1]])\n",
    "one_hot = one_hot_encode(test_seq, 8)\n",
    "\n",
    "print(one_hot)"
   ]
  },
  {
   "cell_type": "markdown",
   "metadata": {},
   "source": [
    "## Making training mini-batches\n",
    "\n",
    "\n",
    "To train on this data, we also want to create mini-batches for training. Remember that we want our batches to be multiple sequences of some desired number of sequence steps. Considering a simple example, our batches would look like this:\n",
    "\n",
    "<img src=\"assets/sequence_batching@1x.png\" width=500px>\n",
    "\n",
    "\n",
    "<br>\n",
    "\n",
    "In this example, we'll take the encoded characters (passed in as the `arr` parameter) and split them into multiple sequences, given by `batch_size`. Each of our sequences will be `seq_length` long.\n",
    "\n",
    "### Creating Batches\n",
    "\n",
    "**1. The first thing we need to do is discard some of the text so we only have completely full mini-batches. **\n",
    "\n",
    "Each batch contains $N \\times M$ characters, where $N$ is the batch size (the number of sequences in a batch) and $M$ is the seq_length or number of time steps in a sequence. Then, to get the total number of batches, $K$, that we can make from the array `arr`, you divide the length of `arr` by the number of characters per batch. Once you know the number of batches, you can get the total number of characters to keep from `arr`, $N * M * K$.\n",
    "\n",
    "**2. After that, we need to split `arr` into $N$ batches. ** \n",
    "\n",
    "You can do this using `arr.reshape(size)` where `size` is a tuple containing the dimensions sizes of the reshaped array. We know we want $N$ sequences in a batch, so let's make that the size of the first dimension. For the second dimension, you can use `-1` as a placeholder in the size, it'll fill up the array with the appropriate data for you. After this, you should have an array that is $N \\times (M * K)$.\n",
    "\n",
    "**3. Now that we have this array, we can iterate through it to get our mini-batches. **\n",
    "\n",
    "The idea is each batch is a $N \\times M$ window on the $N \\times (M * K)$ array. For each subsequent batch, the window moves over by `seq_length`. We also want to create both the input and target arrays. Remember that the targets are just the inputs shifted over by one character. The way I like to do this window is use `range` to take steps of size `n_steps` from $0$ to `arr.shape[1]`, the total number of tokens in each sequence. That way, the integers you get from `range` always point to the start of a batch, and each window is `seq_length` wide.\n",
    "\n",
    "> **TODO:** Write the code for creating batches in the function below. The exercises in this notebook _will not be easy_. I've provided a notebook with solutions alongside this notebook. If you get stuck, checkout the solutions. The most important thing is that you don't copy and paste the code into here, **type out the solution code yourself.**"
   ]
  },
  {
   "cell_type": "code",
   "execution_count": 8,
   "metadata": {},
   "outputs": [],
   "source": [
    "import math\n",
    "\n",
    "def get_batches(arr, batch_size, seq_length):\n",
    "    '''Create a generator that returns batches of size\n",
    "       batch_size x seq_length from arr.\n",
    "       \n",
    "       Arguments\n",
    "       ---------\n",
    "       arr: Array you want to make batches from\n",
    "       batch_size: Batch size, the number of sequences per batch\n",
    "       seq_length: Number of encoded chars in a sequence\n",
    "    '''\n",
    "    ## TODO: Get the number of batches we can make\n",
    "    num_chars_in_batch = batch_size * seq_length\n",
    "    n_batches_k = math.floor(len(arr) / num_chars_in_batch)\n",
    "    \n",
    "    ## TODO: Keep only enough characters to make full batches\n",
    "    #print(\"original array len: {}\".format(len(arr)))\n",
    "    remaining_char_count = len(arr) % (batch_size*seq_length)\n",
    "    final_arr_len = len(arr) - remaining_char_count + 1 #add 1 character to account for y shifting ahead by 1\n",
    "    arr = arr[:final_arr_len]\n",
    "    #print(\"updated array len: {}\".format(len(arr)))\n",
    "    \n",
    "    ## TODO: Reshape into batch_size rows\n",
    "    arr_x = arr[:-1].reshape((batch_size, -1))\n",
    "    arr_y = arr[1:].reshape((batch_size, -1))\n",
    "    \n",
    "    ## TODO: Iterate over the batches using a window of size seq_length\n",
    "    for n in range(0, arr_x.shape[1], seq_length):\n",
    "        # The features\n",
    "        #x = arr_x[n]\n",
    "        x = arr_x[:, n:n+seq_length]\n",
    "        # The targets, shifted by one\n",
    "        #y = arr_y[n]\n",
    "        y = arr_y[:, n:n+seq_length]\n",
    "        yield x, y\n"
   ]
  },
  {
   "cell_type": "markdown",
   "metadata": {},
   "source": [
    "### Test Your Implementation\n",
    "\n",
    "Now I'll make some data sets and we can check out what's going on as we batch data. Here, as an example, I'm going to use a batch size of 8 and 50 sequence steps."
   ]
  },
  {
   "cell_type": "code",
   "execution_count": 9,
   "metadata": {},
   "outputs": [
    {
     "name": "stdout",
     "output_type": "stream",
     "text": [
      "get_batches:\n",
      "x.shape: (8, 200)\n",
      "\n",
      "y.shape: (8, 200)\n"
     ]
    }
   ],
   "source": [
    "print(\"get_batches:\")\n",
    "batches        = get_batches(encoded, 8, 200)\n",
    "\n",
    "x, y = next(batches)\n",
    "\n",
    "print(\"x.shape: {}\".format(x.shape))\n",
    "\n",
    "print(\"\\ny.shape: {}\".format(y.shape))\n",
    "\n",
    "# for (x,y) in batches:\n",
    "#     print(\"mine: x.shape, y.shape: {}, {}\".format(x.shape, y.shape))\n",
    "    \n",
    "# for (x,y) in batches_answer:\n",
    "#     print(\"answer: x.shape, y.shape: {}, {}\".format(x.shape, y.shape))"
   ]
  },
  {
   "cell_type": "code",
   "execution_count": 10,
   "metadata": {},
   "outputs": [
    {
     "name": "stdout",
     "output_type": "stream",
     "text": [
      "x\n",
      " [[31 64 57 ...  1 71 70]\n",
      " [60  1 57 ... 60 13  1]\n",
      " [68 81 11 ... 59 57 68]\n",
      " ...\n",
      " [65 75 76 ... 71 78 61]\n",
      " [69 71 74 ...  3 55 44]\n",
      " [63 13  0 ...  1 57 58]]\n",
      "\n",
      "y\n",
      " [[64 57 72 ... 71 70  1]\n",
      " [ 1 57 70 ... 13  1  3]\n",
      " [81 11  1 ... 57 68 68]\n",
      " ...\n",
      " [75 76 65 ... 78 61 11]\n",
      " [71 74 61 ... 55 44 57]\n",
      " [13  0  0 ... 57 58 71]]\n",
      "x.shape: (8, 200)\n",
      "y.shape: (8, 200)\n"
     ]
    }
   ],
   "source": [
    "# printing out the first 10 items in a sequence\n",
    "# print('x\\n', x[:10, :10])\n",
    "# print('\\ny\\n', y[:10, :10])\n",
    "#print('x\\n', x[:8, :10])\n",
    "print('x\\n', x)\n",
    "print('\\ny\\n', y)\n",
    "\n",
    "print(\"x.shape: {}\".format(x.shape))\n",
    "print(\"y.shape: {}\".format(y.shape))\n"
   ]
  },
  {
   "cell_type": "markdown",
   "metadata": {},
   "source": [
    "If you implemented `get_batches` correctly, the above output should look something like \n",
    "```\n",
    "x\n",
    " [[25  8 60 11 45 27 28 73  1  2]\n",
    " [17  7 20 73 45  8 60 45 73 60]\n",
    " [27 20 80 73  7 28 73 60 73 65]\n",
    " [17 73 45  8 27 73 66  8 46 27]\n",
    " [73 17 60 12 73  8 27 28 73 45]\n",
    " [66 64 17 17 46  7 20 73 60 20]\n",
    " [73 76 20 20 60 73  8 60 80 73]\n",
    " [47 35 43  7 20 17 24 50 37 73]]\n",
    "\n",
    "y\n",
    " [[ 8 60 11 45 27 28 73  1  2  2]\n",
    " [ 7 20 73 45  8 60 45 73 60 45]\n",
    " [20 80 73  7 28 73 60 73 65  7]\n",
    " [73 45  8 27 73 66  8 46 27 65]\n",
    " [17 60 12 73  8 27 28 73 45 27]\n",
    " [64 17 17 46  7 20 73 60 20 80]\n",
    " [76 20 20 60 73  8 60 80 73 17]\n",
    " [35 43  7 20 17 24 50 37 73 36]]\n",
    " ```\n",
    " although the exact numbers may be different. Check to make sure the data is shifted over one step for `y`."
   ]
  },
  {
   "cell_type": "markdown",
   "metadata": {},
   "source": [
    "---\n",
    "## Defining the network with PyTorch\n",
    "\n",
    "Below is where you'll define the network.\n",
    "\n",
    "<img src=\"assets/charRNN.png\" width=500px>\n",
    "\n",
    "Next, you'll use PyTorch to define the architecture of the network. We start by defining the layers and operations we want. Then, define a method for the forward pass. You've also been given a method for predicting characters."
   ]
  },
  {
   "cell_type": "markdown",
   "metadata": {},
   "source": [
    "### Model Structure\n",
    "\n",
    "In `__init__` the suggested structure is as follows:\n",
    "* Create and store the necessary dictionaries (this has been done for you)\n",
    "* Define an LSTM layer that takes as params: an input size (the number of characters), a hidden layer size `n_hidden`, a number of layers `n_layers`, a dropout probability `drop_prob`, and a batch_first boolean (True, since we are batching)\n",
    "* Define a dropout layer with `drop_prob`\n",
    "* Define a fully-connected layer with params: input size `n_hidden` and output size (the number of characters)\n",
    "* Finally, initialize the weights (again, this has been given)\n",
    "\n",
    "Note that some parameters have been named and given in the `__init__` function, and we use them and store them by doing something like `self.drop_prob = drop_prob`."
   ]
  },
  {
   "cell_type": "markdown",
   "metadata": {},
   "source": [
    "---\n",
    "### LSTM Inputs/Outputs\n",
    "\n",
    "You can create a basic [LSTM layer](https://pytorch.org/docs/stable/nn.html#lstm) as follows\n",
    "\n",
    "```python\n",
    "self.lstm = nn.LSTM(input_size, n_hidden, n_layers, \n",
    "                            dropout=drop_prob, batch_first=True)\n",
    "```\n",
    "\n",
    "where `input_size` is the number of characters this cell expects to see as sequential input, and `n_hidden` is the number of units in the hidden layers in the cell. And we can add dropout by adding a dropout parameter with a specified probability; this will automatically add dropout to the inputs or outputs. Finally, in the `forward` function, we can stack up the LSTM cells into layers using `.view`. With this, you pass in a list of cells and it will send the output of one cell into the next cell.\n",
    "\n",
    "We also need to create an initial hidden state of all zeros. This is done like so\n",
    "\n",
    "```python\n",
    "self.init_hidden()\n",
    "```"
   ]
  },
  {
   "cell_type": "code",
   "execution_count": 11,
   "metadata": {},
   "outputs": [
    {
     "name": "stdout",
     "output_type": "stream",
     "text": [
      "Training on GPU!\n"
     ]
    }
   ],
   "source": [
    "# check if GPU is available\n",
    "train_on_gpu = torch.cuda.is_available()\n",
    "if(train_on_gpu):\n",
    "    print('Training on GPU!')\n",
    "else: \n",
    "    print('No GPU available, training on CPU; consider making n_epochs very small.')"
   ]
  },
  {
   "cell_type": "code",
   "execution_count": 12,
   "metadata": {},
   "outputs": [],
   "source": [
    "class CharRNN(nn.Module):\n",
    "    \n",
    "    def __init__(self, tokens, n_hidden=256, n_layers=2, drop_prob=0.5, lr=0.001):\n",
    "        super().__init__()\n",
    "        self.drop_prob = drop_prob\n",
    "        self.n_layers = n_layers\n",
    "        self.n_hidden = n_hidden\n",
    "        self.lr = lr\n",
    "        \n",
    "        # creating character dictionaries\n",
    "        self.chars = tokens\n",
    "        self.int2char = dict(enumerate(self.chars))\n",
    "        self.char2int = {ch: ii for ii, ch in self.int2char.items()}\n",
    "        \n",
    "        ## TODO: define the layers of the model\n",
    "        #    input_size – The number of expected features in the input x\n",
    "        #    hidden_size – The number of features in the hidden state h\n",
    "        #    num_layers – Number of recurrent layers. E.g., setting num_layers=2 would mean stacking two LSTMs together to form a stacked LSTM, with the second LSTM taking in outputs of the first LSTM and computing the final results. Default: 1\n",
    "        #    bias – If False, then the layer does not use bias weights b_ih and b_hh. Default: True\n",
    "        #    batch_first – If True, then the input and output tensors are provided as (batch, seq, feature). Default: False\n",
    "        #    dropout – If non-zero, introduces a Dropout layer on the outputs of each LSTM layer except the last layer, with dropout probability equal to dropout. Default: 0\n",
    "        #    bidirectional – If True, becomes a bidirectional LSTM. Default: False\n",
    "    \n",
    "        self.lstm = nn.LSTM(len(self.chars), n_hidden, n_layers, dropout=drop_prob, batch_first=True)\n",
    "        \n",
    "        ## TODO: define a dropout layer\n",
    "        self.dropout = nn.Dropout(drop_prob)\n",
    "        \n",
    "        #output.shape: torch.Size([2080, 83])\n",
    "        #targets.shape: torch.Size([32, 65])\n",
    "        self.fc = nn.Linear(n_hidden, len(self.chars))\n",
    "    \n",
    "    def forward(self, x, hidden):\n",
    "        ''' Forward pass through the network. \n",
    "            These inputs are x, and the hidden/cell state `hidden`. '''\n",
    "                \n",
    "        ## TODO: Get the outputs and the new hidden state from the lstm\n",
    "        \n",
    "        # get RNN outputs\n",
    "        r_out, hidden = self.lstm(x, hidden)\n",
    "        \n",
    "        ## TODO: pass through a dropout layer\n",
    "        out = self.dropout(r_out)\n",
    "        \n",
    "        # shape output to be (batch_size*seq_length, hidden_dim)\n",
    "        out = out.contiguous().view(-1, self.n_hidden)  \n",
    "        \n",
    "        # get final output \n",
    "        out = self.fc(out)\n",
    "        \n",
    "        # return the final output and the hidden state\n",
    "        return out, hidden\n",
    "    \n",
    "    \n",
    "    def init_hidden(self, batch_size):\n",
    "        ''' Initializes hidden state '''\n",
    "        # Create two new tensors with sizes n_layers x batch_size x n_hidden,\n",
    "        # initialized to zero, for hidden state and cell state of LSTM\n",
    "        weight = next(self.parameters()).data\n",
    "        \n",
    "        if (train_on_gpu):\n",
    "            hidden = (weight.new(self.n_layers, batch_size, self.n_hidden).zero_().cuda(),\n",
    "                      weight.new(self.n_layers, batch_size, self.n_hidden).zero_().cuda())\n",
    "        else:\n",
    "            hidden = (weight.new(self.n_layers, batch_size, self.n_hidden).zero_(),\n",
    "                      weight.new(self.n_layers, batch_size, self.n_hidden).zero_())\n",
    "        \n",
    "        #print(\"init_hidden: {}\".format(hidden))\n",
    "        return hidden\n",
    "        "
   ]
  },
  {
   "cell_type": "markdown",
   "metadata": {},
   "source": [
    "## Time to train\n",
    "\n",
    "The train function gives us the ability to set the number of epochs, the learning rate, and other parameters.\n",
    "\n",
    "Below we're using an Adam optimizer and cross entropy loss since we are looking at character class scores as output. We calculate the loss and perform backpropagation, as usual!\n",
    "\n",
    "A couple of details about training: \n",
    ">* Within the batch loop, we detach the hidden state from its history; this time setting it equal to a new *tuple* variable because an LSTM has a hidden state that is a tuple of the hidden and cell states.\n",
    "* We use [`clip_grad_norm_`](https://pytorch.org/docs/stable/_modules/torch/nn/utils/clip_grad.html) to help prevent exploding gradients."
   ]
  },
  {
   "cell_type": "code",
   "execution_count": 13,
   "metadata": {},
   "outputs": [],
   "source": [
    "def train(net, data, epochs=10, batch_size=10, seq_length=50, lr=0.001, clip=5, val_frac=0.1, print_every=10):\n",
    "    ''' Training a network \n",
    "    \n",
    "        Arguments\n",
    "        ---------\n",
    "        \n",
    "        net: CharRNN network\n",
    "        data: text data to train the network\n",
    "        epochs: Number of epochs to train\n",
    "        batch_size: Number of mini-sequences per mini-batch, aka batch size\n",
    "        seq_length: Number of character steps per mini-batch\n",
    "        lr: learning rate\n",
    "        clip: gradient clipping\n",
    "        val_frac: Fraction of data to hold out for validation\n",
    "        print_every: Number of steps for printing training and validation loss\n",
    "    \n",
    "    '''\n",
    "    net.train()\n",
    "    \n",
    "    opt = torch.optim.Adam(net.parameters(), lr=lr)\n",
    "    criterion = nn.CrossEntropyLoss()\n",
    "    \n",
    "    # create training and validation data\n",
    "    val_idx = int(len(data)*(1-val_frac))\n",
    "    data, val_data = data[:val_idx], data[val_idx:]\n",
    "    \n",
    "    if(train_on_gpu):\n",
    "        net.cuda()\n",
    "    \n",
    "    counter = 0\n",
    "    n_chars = len(net.chars)\n",
    "    for e in range(epochs):\n",
    "        # initialize hidden state\n",
    "        h = net.init_hidden(batch_size)\n",
    "        \n",
    "        for x, y in get_batches(data, batch_size, seq_length):\n",
    "#             print(\"*** data.shape: {}\".format(data.shape))\n",
    "#             print(\"*** x.shape: {}\".format(x.shape))\n",
    "#             print(\"*** y.shape: {}\".format(y.shape))\n",
    "            \n",
    "            counter += 1\n",
    "            \n",
    "            # One-hot encode our data and make them Torch tensors\n",
    "            x = one_hot_encode(x, n_chars)\n",
    "            inputs, targets = torch.from_numpy(x), torch.from_numpy(y)\n",
    "            \n",
    "            if(train_on_gpu):\n",
    "                inputs, targets = inputs.cuda(), targets.cuda()\n",
    "\n",
    "            # Creating new variables for the hidden state, otherwise\n",
    "            # we'd backprop through the entire training history\n",
    "            h = tuple([each.data for each in h])\n",
    "\n",
    "            # zero accumulated gradients\n",
    "            net.zero_grad()\n",
    "            \n",
    "            # get the output from the model\n",
    "            output, h = net(inputs, h)\n",
    "            \n",
    "            # calculate the loss and perform backprop\n",
    "            \n",
    "#             print(\"output.shape: {}\".format(output.shape))  #output.shape: torch.Size([2080, 83])\n",
    "#             print(\"targets.shape: {}\".format(targets.shape))  #targets.shape: torch.Size([32, 65])\n",
    "#             print(\"batch_size*seq_length: {}\".format(batch_size*seq_length))\n",
    "            \n",
    "            loss = criterion(output, targets.view(batch_size*seq_length).long())\n",
    "            loss.backward()\n",
    "            # `clip_grad_norm` helps prevent the exploding gradient problem in RNNs / LSTMs.\n",
    "            nn.utils.clip_grad_norm_(net.parameters(), clip)\n",
    "            opt.step()\n",
    "            \n",
    "            # loss stats\n",
    "            if counter % print_every == 0:\n",
    "                # Get validation loss\n",
    "                val_h = net.init_hidden(batch_size)\n",
    "                val_losses = []\n",
    "                net.eval()\n",
    "                for x, y in get_batches(val_data, batch_size, seq_length):\n",
    "                    # One-hot encode our data and make them Torch tensors\n",
    "                    x = one_hot_encode(x, n_chars)\n",
    "                    x, y = torch.from_numpy(x), torch.from_numpy(y)\n",
    "                    \n",
    "                    # Creating new variables for the hidden state, otherwise\n",
    "                    # we'd backprop through the entire training history\n",
    "                    val_h = tuple([each.data for each in val_h])\n",
    "                    \n",
    "                    inputs, targets = x, y\n",
    "                    if(train_on_gpu):\n",
    "                        inputs, targets = inputs.cuda(), targets.cuda()\n",
    "\n",
    "                    output, val_h = net(inputs, val_h)\n",
    "                    val_loss = criterion(output, targets.view(batch_size*seq_length).long())\n",
    "                    val_losses.append(val_loss.item())\n",
    "                \n",
    "                net.train() # reset to train mode after iterationg through validation data\n",
    "                \n",
    "                print(\"Epoch: {}/{}...\".format(e+1, epochs),\n",
    "                      \"Step: {}...\".format(counter),\n",
    "                      \"Loss: {:.4f}...\".format(loss.item()),\n",
    "                      \"Val Loss: {:.4f}\".format(np.mean(val_losses)))"
   ]
  },
  {
   "cell_type": "markdown",
   "metadata": {},
   "source": [
    "## Instantiating the model\n",
    "\n",
    "Now we can actually train the network. First we'll create the network itself, with some given hyperparameters. Then, define the mini-batches sizes, and start training!"
   ]
  },
  {
   "cell_type": "code",
   "execution_count": 14,
   "metadata": {},
   "outputs": [
    {
     "name": "stdout",
     "output_type": "stream",
     "text": [
      "CharRNN(\n",
      "  (lstm): LSTM(83, 1024, num_layers=2, batch_first=True, dropout=0.5)\n",
      "  (dropout): Dropout(p=0.5, inplace=False)\n",
      "  (fc): Linear(in_features=1024, out_features=83, bias=True)\n",
      ")\n"
     ]
    }
   ],
   "source": [
    "## TODO: set your model hyperparameters\n",
    "# define and print the net\n",
    "n_hidden=1024\n",
    "n_layers=2\n",
    "\n",
    "net = CharRNN(chars, n_hidden, n_layers)\n",
    "print(net)"
   ]
  },
  {
   "cell_type": "markdown",
   "metadata": {},
   "source": [
    "### Set your training hyperparameters!"
   ]
  },
  {
   "cell_type": "code",
   "execution_count": 15,
   "metadata": {
    "scrolled": true
   },
   "outputs": [
    {
     "name": "stdout",
     "output_type": "stream",
     "text": [
      "Epoch: 1/30... Step: 10... Loss: 3.1681... Val Loss: 3.1251\n",
      "Epoch: 1/30... Step: 20... Loss: 3.1360... Val Loss: 3.1022\n",
      "Epoch: 1/30... Step: 30... Loss: 3.2045... Val Loss: 3.0974\n",
      "Epoch: 2/30... Step: 40... Loss: 3.1155... Val Loss: 3.0946\n",
      "Epoch: 2/30... Step: 50... Loss: 3.1227... Val Loss: 3.0931\n",
      "Epoch: 2/30... Step: 60... Loss: 3.1162... Val Loss: 3.0921\n",
      "Epoch: 2/30... Step: 70... Loss: 3.1007... Val Loss: 3.0914\n",
      "Epoch: 3/30... Step: 80... Loss: 3.0997... Val Loss: 3.0903\n",
      "Epoch: 3/30... Step: 90... Loss: 3.1082... Val Loss: 3.0888\n",
      "Epoch: 3/30... Step: 100... Loss: 3.0997... Val Loss: 3.0850\n",
      "Epoch: 3/30... Step: 110... Loss: 3.1047... Val Loss: 3.0788\n",
      "Epoch: 4/30... Step: 120... Loss: 3.0781... Val Loss: 3.0608\n",
      "Epoch: 4/30... Step: 130... Loss: 3.0362... Val Loss: 3.0134\n",
      "Epoch: 4/30... Step: 140... Loss: 2.9532... Val Loss: 2.9654\n",
      "Epoch: 4/30... Step: 150... Loss: 2.9292... Val Loss: 2.8670\n",
      "Epoch: 5/30... Step: 160... Loss: 2.7875... Val Loss: 2.7656\n",
      "Epoch: 5/30... Step: 170... Loss: 2.7239... Val Loss: 2.6660\n",
      "Epoch: 5/30... Step: 180... Loss: 2.6167... Val Loss: 2.5604\n",
      "Epoch: 5/30... Step: 190... Loss: 2.5309... Val Loss: 2.4877\n",
      "Epoch: 6/30... Step: 200... Loss: 2.4709... Val Loss: 2.4155\n",
      "Epoch: 6/30... Step: 210... Loss: 2.4256... Val Loss: 2.3778\n",
      "Epoch: 6/30... Step: 220... Loss: 2.3934... Val Loss: 2.3200\n",
      "Epoch: 6/30... Step: 230... Loss: 2.3490... Val Loss: 2.2800\n",
      "Epoch: 7/30... Step: 240... Loss: 2.3094... Val Loss: 2.2411\n",
      "Epoch: 7/30... Step: 250... Loss: 2.2684... Val Loss: 2.1944\n",
      "Epoch: 7/30... Step: 260... Loss: 2.2582... Val Loss: 2.2003\n",
      "Epoch: 7/30... Step: 270... Loss: 2.2246... Val Loss: 2.1412\n",
      "Epoch: 8/30... Step: 280... Loss: 2.1563... Val Loss: 2.1159\n",
      "Epoch: 8/30... Step: 290... Loss: 2.1423... Val Loss: 2.0737\n",
      "Epoch: 8/30... Step: 300... Loss: 2.0980... Val Loss: 2.0331\n",
      "Epoch: 8/30... Step: 310... Loss: 2.0714... Val Loss: 1.9997\n",
      "Epoch: 9/30... Step: 320... Loss: 2.0382... Val Loss: 1.9663\n",
      "Epoch: 9/30... Step: 330... Loss: 1.9914... Val Loss: 1.9326\n",
      "Epoch: 9/30... Step: 340... Loss: 1.9804... Val Loss: 1.9028\n",
      "Epoch: 9/30... Step: 350... Loss: 1.9460... Val Loss: 1.8694\n",
      "Epoch: 10/30... Step: 360... Loss: 1.9152... Val Loss: 1.8420\n",
      "Epoch: 10/30... Step: 370... Loss: 1.8677... Val Loss: 1.8114\n",
      "Epoch: 10/30... Step: 380... Loss: 1.8653... Val Loss: 1.7838\n",
      "Epoch: 10/30... Step: 390... Loss: 1.8466... Val Loss: 1.7587\n",
      "Epoch: 11/30... Step: 400... Loss: 1.8135... Val Loss: 1.7293\n",
      "Epoch: 11/30... Step: 410... Loss: 1.7772... Val Loss: 1.7065\n",
      "Epoch: 11/30... Step: 420... Loss: 1.7650... Val Loss: 1.6832\n",
      "Epoch: 12/30... Step: 430... Loss: 1.7575... Val Loss: 1.6621\n",
      "Epoch: 12/30... Step: 440... Loss: 1.7190... Val Loss: 1.6384\n",
      "Epoch: 12/30... Step: 450... Loss: 1.6957... Val Loss: 1.6271\n",
      "Epoch: 12/30... Step: 460... Loss: 1.6779... Val Loss: 1.6041\n",
      "Epoch: 13/30... Step: 470... Loss: 1.6815... Val Loss: 1.5880\n",
      "Epoch: 13/30... Step: 480... Loss: 1.6260... Val Loss: 1.5688\n",
      "Epoch: 13/30... Step: 490... Loss: 1.6195... Val Loss: 1.5571\n",
      "Epoch: 13/30... Step: 500... Loss: 1.6387... Val Loss: 1.5453\n",
      "Epoch: 14/30... Step: 510... Loss: 1.6041... Val Loss: 1.5307\n",
      "Epoch: 14/30... Step: 520... Loss: 1.7103... Val Loss: 1.6759\n",
      "Epoch: 14/30... Step: 530... Loss: 1.8799... Val Loss: 1.5073\n",
      "Epoch: 14/30... Step: 540... Loss: 1.8659... Val Loss: 1.4995\n",
      "Epoch: 15/30... Step: 550... Loss: 1.5581... Val Loss: 1.4861\n",
      "Epoch: 15/30... Step: 560... Loss: 1.5549... Val Loss: 1.4738\n",
      "Epoch: 15/30... Step: 570... Loss: 1.6030... Val Loss: 1.4692\n",
      "Epoch: 15/30... Step: 580... Loss: 1.6227... Val Loss: 1.4590\n",
      "Epoch: 16/30... Step: 590... Loss: 1.5090... Val Loss: 1.4491\n",
      "Epoch: 16/30... Step: 600... Loss: 1.5704... Val Loss: 1.4425\n",
      "Epoch: 16/30... Step: 610... Loss: 2.5766... Val Loss: 1.5074\n",
      "Epoch: 16/30... Step: 620... Loss: 2.5334... Val Loss: 1.4713\n",
      "Epoch: 17/30... Step: 630... Loss: 1.5204... Val Loss: 1.4459\n",
      "Epoch: 17/30... Step: 640... Loss: 1.5053... Val Loss: 1.4249\n",
      "Epoch: 17/30... Step: 650... Loss: 1.4895... Val Loss: 1.4171\n",
      "Epoch: 17/30... Step: 660... Loss: 1.4793... Val Loss: 1.4068\n",
      "Epoch: 18/30... Step: 670... Loss: 1.4402... Val Loss: 1.3998\n",
      "Epoch: 18/30... Step: 680... Loss: 1.4634... Val Loss: 1.3914\n",
      "Epoch: 18/30... Step: 690... Loss: 1.4404... Val Loss: 1.3853\n",
      "Epoch: 18/30... Step: 700... Loss: 1.4463... Val Loss: 1.3787\n",
      "Epoch: 19/30... Step: 710... Loss: 1.4216... Val Loss: 1.3729\n",
      "Epoch: 19/30... Step: 720... Loss: 1.4123... Val Loss: 1.3663\n",
      "Epoch: 19/30... Step: 730... Loss: 1.4408... Val Loss: 1.3638\n",
      "Epoch: 19/30... Step: 740... Loss: 1.4230... Val Loss: 1.3557\n",
      "Epoch: 20/30... Step: 750... Loss: 1.4104... Val Loss: 1.3515\n",
      "Epoch: 20/30... Step: 760... Loss: 1.3775... Val Loss: 1.3436\n",
      "Epoch: 20/30... Step: 770... Loss: 1.4021... Val Loss: 1.3403\n",
      "Epoch: 20/30... Step: 780... Loss: 1.4026... Val Loss: 1.3324\n",
      "Epoch: 21/30... Step: 790... Loss: 1.3848... Val Loss: 1.3278\n",
      "Epoch: 21/30... Step: 800... Loss: 1.3777... Val Loss: 1.3254\n",
      "Epoch: 21/30... Step: 810... Loss: 1.3772... Val Loss: 1.3206\n",
      "Epoch: 22/30... Step: 820... Loss: 1.3942... Val Loss: 1.3149\n",
      "Epoch: 22/30... Step: 830... Loss: 1.3621... Val Loss: 1.3111\n",
      "Epoch: 22/30... Step: 840... Loss: 1.3579... Val Loss: 1.3127\n",
      "Epoch: 22/30... Step: 850... Loss: 1.3472... Val Loss: 1.3047\n",
      "Epoch: 23/30... Step: 860... Loss: 1.3605... Val Loss: 1.3018\n",
      "Epoch: 23/30... Step: 870... Loss: 1.3230... Val Loss: 1.2981\n",
      "Epoch: 23/30... Step: 880... Loss: 1.3159... Val Loss: 1.2967\n",
      "Epoch: 23/30... Step: 890... Loss: 1.3336... Val Loss: 1.2913\n",
      "Epoch: 24/30... Step: 900... Loss: 1.3331... Val Loss: 1.2872\n",
      "Epoch: 24/30... Step: 910... Loss: 1.3236... Val Loss: 1.2849\n",
      "Epoch: 24/30... Step: 920... Loss: 1.3105... Val Loss: 1.2814\n",
      "Epoch: 24/30... Step: 930... Loss: 1.3079... Val Loss: 1.2790\n",
      "Epoch: 25/30... Step: 940... Loss: 1.3092... Val Loss: 1.2771\n",
      "Epoch: 25/30... Step: 950... Loss: 1.3080... Val Loss: 1.2718\n",
      "Epoch: 25/30... Step: 960... Loss: 1.2839... Val Loss: 1.2699\n",
      "Epoch: 25/30... Step: 970... Loss: 1.2972... Val Loss: 1.2688\n",
      "Epoch: 26/30... Step: 980... Loss: 1.2798... Val Loss: 1.2658\n",
      "Epoch: 26/30... Step: 990... Loss: 1.2920... Val Loss: 1.2603\n",
      "Epoch: 26/30... Step: 1000... Loss: 1.2863... Val Loss: 1.2611\n",
      "Epoch: 26/30... Step: 1010... Loss: 1.2872... Val Loss: 1.2599\n",
      "Epoch: 27/30... Step: 1020... Loss: 1.2877... Val Loss: 1.2549\n",
      "Epoch: 27/30... Step: 1030... Loss: 1.2869... Val Loss: 1.2505\n",
      "Epoch: 27/30... Step: 1040... Loss: 1.2798... Val Loss: 1.2534\n",
      "Epoch: 27/30... Step: 1050... Loss: 1.2710... Val Loss: 1.2479\n",
      "Epoch: 28/30... Step: 1060... Loss: 1.2486... Val Loss: 1.2466\n",
      "Epoch: 28/30... Step: 1070... Loss: 1.2735... Val Loss: 1.2423\n",
      "Epoch: 28/30... Step: 1080... Loss: 1.2482... Val Loss: 1.2447\n",
      "Epoch: 28/30... Step: 1090... Loss: 1.2599... Val Loss: 1.2386\n",
      "Epoch: 29/30... Step: 1100... Loss: 1.2469... Val Loss: 1.2388\n",
      "Epoch: 29/30... Step: 1110... Loss: 1.2395... Val Loss: 1.2358\n",
      "Epoch: 29/30... Step: 1120... Loss: 1.2689... Val Loss: 1.2332\n",
      "Epoch: 29/30... Step: 1130... Loss: 1.2560... Val Loss: 1.2321\n",
      "Epoch: 30/30... Step: 1140... Loss: 1.2462... Val Loss: 1.2299\n",
      "Epoch: 30/30... Step: 1150... Loss: 1.2197... Val Loss: 1.2298\n",
      "Epoch: 30/30... Step: 1160... Loss: 1.2454... Val Loss: 1.2255\n",
      "Epoch: 30/30... Step: 1170... Loss: 1.2424... Val Loss: 1.2246\n"
     ]
    }
   ],
   "source": [
    "batch_size = 128\n",
    "seq_length = 350\n",
    "n_epochs   = 30  #  start small if you are just testing initial behavior\n",
    "\n",
    "#loss stops around epoch 25\n",
    "# n_hidden=1024\n",
    "# n_layers=2\n",
    "# batch_size = 128\n",
    "# seq_length = 300\n",
    "\n",
    "# train the model\n",
    "train(net, encoded, epochs=n_epochs, batch_size=batch_size, seq_length=seq_length, lr=0.001, print_every=10)"
   ]
  },
  {
   "cell_type": "markdown",
   "metadata": {},
   "source": [
    "## Getting the best model\n",
    "\n",
    "To set your hyperparameters to get the best performance, you'll want to watch the training and validation losses. If your training loss is much lower than the validation loss, you're overfitting. Increase regularization (more dropout) or use a smaller network. If the training and validation losses are close, you're underfitting so you can increase the size of the network."
   ]
  },
  {
   "cell_type": "markdown",
   "metadata": {},
   "source": [
    "## Hyperparameters\n",
    "\n",
    "Here are the hyperparameters for the network.\n",
    "\n",
    "In defining the model:\n",
    "* `n_hidden` - The number of units in the hidden layers.\n",
    "* `n_layers` - Number of hidden LSTM layers to use.\n",
    "\n",
    "We assume that dropout probability and learning rate will be kept at the default, in this example.\n",
    "\n",
    "And in training:\n",
    "* `batch_size` - Number of sequences running through the network in one pass.\n",
    "* `seq_length` - Number of characters in the sequence the network is trained on. Larger is better typically, the network will learn more long range dependencies. But it takes longer to train. 100 is typically a good number here.\n",
    "* `lr` - Learning rate for training\n",
    "\n",
    "Here's some good advice from Andrej Karpathy on training the network. I'm going to copy it in here for your benefit, but also link to [where it originally came from](https://github.com/karpathy/char-rnn#tips-and-tricks).\n",
    "\n",
    "> ## Tips and Tricks\n",
    "\n",
    ">### Monitoring Validation Loss vs. Training Loss\n",
    ">If you're somewhat new to Machine Learning or Neural Networks it can take a bit of expertise to get good models. The most important quantity to keep track of is the difference between your training loss (printed during training) and the validation loss (printed once in a while when the RNN is run on the validation data (by default every 1000 iterations)). In particular:\n",
    "\n",
    "> - If your training loss is much lower than validation loss then this means the network might be **overfitting**. Solutions to this are to decrease your network size, or to increase dropout. For example you could try dropout of 0.5 and so on.\n",
    "> - If your training/validation loss are about equal then your model is **underfitting**. Increase the size of your model (either number of layers or the raw number of neurons per layer)\n",
    "\n",
    "> ### Approximate number of parameters\n",
    "\n",
    "> The two most important parameters that control the model are `n_hidden` and `n_layers`. I would advise that you always use `n_layers` of either 2/3. The `n_hidden` can be adjusted based on how much data you have. The two important quantities to keep track of here are:\n",
    "\n",
    "> - The number of parameters in your model. This is printed when you start training.\n",
    "> - The size of your dataset. 1MB file is approximately 1 million characters.\n",
    "\n",
    ">These two should be about the same order of magnitude. It's a little tricky to tell. Here are some examples:\n",
    "\n",
    "> - I have a 100MB dataset and I'm using the default parameter settings (which currently print 150K parameters). My data size is significantly larger (100 mil >> 0.15 mil), so I expect to heavily underfit. I am thinking I can comfortably afford to make `n_hidden` larger.\n",
    "> - I have a 10MB dataset and running a 10 million parameter model. I'm slightly nervous and I'm carefully monitoring my validation loss. If it's larger than my training loss then I may want to try to increase dropout a bit and see if that helps the validation loss.\n",
    "\n",
    "> ### Best models strategy\n",
    "\n",
    ">The winning strategy to obtaining very good models (if you have the compute time) is to always err on making the network larger (as large as you're willing to wait for it to compute) and then try different dropout values (between 0,1). Whatever model has the best validation performance (the loss, written in the checkpoint filename, low is good) is the one you should use in the end.\n",
    "\n",
    ">It is very common in deep learning to run many different models with many different hyperparameter settings, and in the end take whatever checkpoint gave the best validation performance.\n",
    "\n",
    ">By the way, the size of your training and validation splits are also parameters. Make sure you have a decent amount of data in your validation set or otherwise the validation performance will be noisy and not very informative."
   ]
  },
  {
   "cell_type": "markdown",
   "metadata": {},
   "source": [
    "## Checkpoint\n",
    "\n",
    "After training, we'll save the model so we can load it again later if we need too. Here I'm saving the parameters needed to create the same architecture, the hidden layer hyperparameters and the text characters."
   ]
  },
  {
   "cell_type": "code",
   "execution_count": 22,
   "metadata": {},
   "outputs": [],
   "source": [
    "# change the name, for saving multiple files\n",
    "model_name = 'rnn_30_epoch.net'\n",
    "\n",
    "checkpoint = {'n_hidden': net.n_hidden,\n",
    "              'n_layers': net.n_layers,\n",
    "              'state_dict': net.state_dict(),\n",
    "              'tokens': net.chars}\n",
    "\n",
    "with open(model_name, 'wb') as f:\n",
    "    torch.save(checkpoint, f)"
   ]
  },
  {
   "cell_type": "markdown",
   "metadata": {},
   "source": [
    "---\n",
    "## Making Predictions\n",
    "\n",
    "Now that the model is trained, we'll want to sample from it and make predictions about next characters! To sample, we pass in a character and have the network predict the next character. Then we take that character, pass it back in, and get another predicted character. Just keep doing this and you'll generate a bunch of text!\n",
    "\n",
    "### A note on the `predict`  function\n",
    "\n",
    "The output of our RNN is from a fully-connected layer and it outputs a **distribution of next-character scores**.\n",
    "\n",
    "> To actually get the next character, we apply a softmax function, which gives us a *probability* distribution that we can then sample to predict the next character.\n",
    "\n",
    "### Top K sampling\n",
    "\n",
    "Our predictions come from a categorical probability distribution over all the possible characters. We can make the sample text and make it more reasonable to handle (with less variables) by only considering some $K$ most probable characters. This will prevent the network from giving us completely absurd characters while allowing it to introduce some noise and randomness into the sampled text. Read more about [topk, here](https://pytorch.org/docs/stable/torch.html#torch.topk).\n"
   ]
  },
  {
   "cell_type": "code",
   "execution_count": 75,
   "metadata": {},
   "outputs": [],
   "source": [
    "def predict(net, char, h=None, top_k=None):\n",
    "        ''' Given a character, predict the next character.\n",
    "            Returns the predicted character and the hidden state.\n",
    "        '''\n",
    "        \n",
    "        # tensor inputs\n",
    "        x = np.array([[net.char2int[char]]])\n",
    "        x = one_hot_encode(x, len(net.chars))\n",
    "        inputs = torch.from_numpy(x)\n",
    "        \n",
    "        #print(f\"inputs.shape: {inputs.shape}\")  #inputs.shape: torch.Size([1, 1, 83])\n",
    "        \n",
    "        if(train_on_gpu):\n",
    "            inputs = inputs.cuda()\n",
    "        \n",
    "        # detach hidden state from history\n",
    "        h = tuple([each.data for each in h])\n",
    "        # get the output of the model\n",
    "        out, h = net(inputs, h)\n",
    "\n",
    "        # get the character probabilities\n",
    "        p = F.softmax(out, dim=1).data\n",
    "        if(train_on_gpu):\n",
    "            p = p.cpu() # move to cpu\n",
    "        \n",
    "        # get top characters\n",
    "        if top_k is None:\n",
    "            top_ch = np.arange(len(net.chars))\n",
    "        else:\n",
    "            p, top_ch = p.topk(top_k)\n",
    "            top_ch = top_ch.numpy().squeeze()\n",
    "        \n",
    "        # select the likely next character with some element of randomness\n",
    "        p = p.numpy().squeeze()\n",
    "        char = np.random.choice(top_ch, p=p/p.sum())\n",
    "        \n",
    "#         print(top_ch)\n",
    "#         print(char)\n",
    "#         char = np.max(top_ch)\n",
    "#         print(char)\n",
    "        \n",
    "        # return the encoded value of the predicted char and the hidden state\n",
    "        return net.int2char[char], h"
   ]
  },
  {
   "cell_type": "markdown",
   "metadata": {},
   "source": [
    "### Priming and generating text \n",
    "\n",
    "Typically you'll want to prime the network so you can build up a hidden state. Otherwise the network will start out generating characters at random. In general the first bunch of characters will be a little rough since it hasn't built up a long history of characters to predict from."
   ]
  },
  {
   "cell_type": "code",
   "execution_count": 73,
   "metadata": {},
   "outputs": [],
   "source": [
    "def sample(net, size, prime='walked', top_k=None):\n",
    "        \n",
    "    if(train_on_gpu):\n",
    "        net.cuda()\n",
    "    else:\n",
    "        net.cpu()\n",
    "    \n",
    "    net.eval() # eval mode\n",
    "    \n",
    "    # First off, run through the prime characters\n",
    "    chars = [ch for ch in prime]\n",
    "    h = net.init_hidden(1)\n",
    "    for ch in prime:\n",
    "        char, h = predict(net, ch, h, top_k=top_k)\n",
    "\n",
    "    chars.append(char)\n",
    "    \n",
    "    # Now pass in the previous character and get a new one\n",
    "    for ii in range(size):\n",
    "        char, h = predict(net, chars[-1], h, top_k=top_k)\n",
    "        chars.append(char)\n",
    "\n",
    "    return ''.join(chars)"
   ]
  },
  {
   "cell_type": "code",
   "execution_count": 76,
   "metadata": {},
   "outputs": [
    {
     "name": "stdout",
     "output_type": "stream",
     "text": [
      "sisters, and she\n",
      "was a little of the strangers and the strange time, and the same time, and the\n",
      "property of the country he was a strange to the straight of the stream, which was something all the\n",
      "same thing that the chief sense to\n",
      "him that he was so\n",
      "lifting the stream, who was a look at\n",
      "the sace of to the propersy,\n",
      "who was a straight of the strange thing to the princess and her soul that he had never said in her sour, as though they was so much a servants of the same strength on the\n",
      "courtery on his way to him and the painful compassion of him to her. All\n",
      "her soul, and her sincere and sentions, and the same timid that had been always did not say that he\n",
      "was a long\n",
      "while and the\n",
      "same singless and the conversation of the same time that\n",
      "she had been all her husband, and\n",
      "he was standing and seeming him an offer to him the same time,\n",
      "and his head of the child so to say to his\n",
      "brother, who were some offection of him that the princess was so much as he\n",
      "wanted to say that the contrary that had been\n",
      "straight to the same time the children with her hand and she was a little on the children, as the peasants was so much and sense of his face, with a states of the counting hands to the counting house and the party of the state of the party of the country with a smile of the chair of the station to\n",
      "tell him the same single of the party of his wife, and that his wife was a sense of the country, and the starm of his happiness, and the princess was so much as the same\n",
      "thing to see him the same time, that they were so many who he had to be angry, and she\n",
      "was so\n",
      "much as to this way of him and the party of him, and he had the princess and him, and the princess was standing\n",
      "at\n",
      "him and the painted with a smile on\n",
      "the same time that he was a strange this considerations of the same singer of his wife was\n",
      "a state of the province of the country, which was so much a promosing the\n",
      "strange times and the stranger of her hands, and the strange was standing of the same side, and he had not the same side of the party, which had been a strange there was standing at him. He was still at\n",
      "the station, and the princess had been so much to say to her and her\n",
      "face with his son and himself as his hands, and her husband would have\n",
      "seemed to her as though he was standing and seeing them to the streng of the princess, and he had to be so much to say to him. The princess was still, which had been a look of the strange thing there was\n",
      "not to be\n",
      "so to think, and that he had not the provincies of the princess at the convincing the\n",
      "same time,\n",
      "and the prince was\n",
      "standing at him to the same then and see her and thinking about him as though he was so much as he\n",
      "was something straight and thinking of him to him that the provinces was a starried of the princess that the princess wanted to say that the conviction of his hands were still, and the starming was so the children was a little of the same side, and the\n",
      "sacrater with her son and his face as they\n",
      "was starding him to the station, and that he was all he was still more to the station of the same\n",
      "time that they were still and so as a little one of the\n",
      "same thing that he had been a lift of the starring of the strange thing there was a state of the\n",
      "same\n",
      "streams, and that he was so like a long\n",
      "strength to him to see them along the painters of the same stare of the\n",
      "strength of the same side.\n",
      "\n",
      "\"I should be such a strange to make a minute. I see that I can't believe the proposed\n",
      "will be so much as though I can't be a sering man what it was a little forms.\"\n",
      "\n",
      "\"I don't\n",
      "know her to the contrary,\" he said, and she was a station of the party of the conversation of his head as\n",
      "he was all\n",
      "the same strange face, as though to say when he had been a little side of his heart the party of his way of his heart to the princess to take him and the\n",
      "strenct of the\n",
      "same time, and\n",
      "the princess was a streak,\n",
      "and he had not to be saying than he was a little forts of the station, which were a little commints of her soul, and her\n",
      "face was\n",
      "so mary with his heart and the starried wife, and he was all his son, and the point of his wife with her son and\n",
      "his hands and satisfaction, and that they was straight to her husband, and to the\n",
      "peasants, and to the\n",
      "same station,\n",
      "which had\n",
      "seen the streat of his\n",
      "soun, and took his brother, who had been always and himself that he had been said, with a conversation, and the points were so much as the same thing of the strange the same side, and he was so married to the strange of his\n",
      "hands of the same time to her hand and her husband was so much to be a stranger of\n",
      "the princess, and he was a strange for this part of the province of the same time that they were still and sent a sense, and the\n",
      "state and the courtes of\n",
      "his heart, and the point of his way to her husband as though he was\n",
      "so much as though to see the same time he was so long and the strength of the painting of the straight of the provinces on the\n",
      "starring of her hands that he had been a strangered one and this strange for the contrary, and he had the s\n"
     ]
    }
   ],
   "source": [
    "print(sample(net, 5000, prime='sister', top_k=2))"
   ]
  },
  {
   "cell_type": "code",
   "execution_count": null,
   "metadata": {},
   "outputs": [],
   "source": []
  },
  {
   "cell_type": "code",
   "execution_count": null,
   "metadata": {},
   "outputs": [],
   "source": []
  },
  {
   "cell_type": "markdown",
   "metadata": {},
   "source": [
    "## Loading a checkpoint"
   ]
  },
  {
   "cell_type": "code",
   "execution_count": 20,
   "metadata": {},
   "outputs": [
    {
     "data": {
      "text/plain": [
       "<All keys matched successfully>"
      ]
     },
     "execution_count": 20,
     "metadata": {},
     "output_type": "execute_result"
    }
   ],
   "source": [
    "# Here we have loaded in a model that trained over 20 epochs `rnn_20_epoch.net`\n",
    "with open('rnn_x_epoch.net', 'rb') as f:\n",
    "    checkpoint = torch.load(f)\n",
    "    \n",
    "loaded = CharRNN(checkpoint['tokens'], n_hidden=checkpoint['n_hidden'], n_layers=checkpoint['n_layers'])\n",
    "loaded.load_state_dict(checkpoint['state_dict'])"
   ]
  },
  {
   "cell_type": "code",
   "execution_count": 21,
   "metadata": {},
   "outputs": [
    {
     "name": "stdout",
     "output_type": "stream",
     "text": [
      "And Levin said,\n",
      "\"What is the present? Ah! I see that you was any sister, that is to\n",
      "divorce my son our.... You work out while it were the most interest to\n",
      "anyone, and so himself that is the same, and to be at\n",
      "home with anyone else? What do you do to be something of it!\"\n",
      "\n",
      "\"Oh, you don't know what I could not have to get a landowner! I am to\n",
      "say to you. All the dinner we had any more interested what it is. Be\n",
      "services at once--what does hears. It's visitor. I don't see how,\" she\n",
      "said in a whisper, \"what is it?\" she added, went on with simple she was\n",
      "to see all at out of dignity and the country and thought. His face\n",
      "with her shrill voice, with his station that ill his eyes\n",
      "were not thrown against the waiter to her that he could not help\n",
      "supporting the subject, and they was in those words.\n",
      "\n",
      "\"I have non enjoyed this soul when I shall be doly and will\n",
      "be true. I'll do will take her here.\"\n",
      "\n",
      "At the memory of the clamp this he had not been answer. And there\n",
      "was a little best day today. That day that she was at the meeting,\n",
      "as it were attricting the peasant that he had to be a her eyes which\n",
      "had been all the finishing of a minute weaking on his best hands,\n",
      "and all the was of their manners of to blame and the fields there's the\n",
      "meadures that to be to set all this and seriously attention, the station\n",
      "in the merchant's hands, the most child to all that his being been to\n",
      "call out that he was a glass. He watched his starncoos and all the\n",
      "difficulty of his challenge, supporting, and he had to be. Beside the\n",
      "companions, he felt three it, when to ask him when he was anxious to\n",
      "pressed himself for this time, that his words were called in a short\n",
      "day.\n",
      "\n",
      "\"Why set it in?\" said Vronsky, looking at him were so glanced, but\n",
      "as he had not been through, and she caught the dogs, her head sat\n",
      "down beswanding, he was answering him.\n",
      "\n",
      "\"It is so long when the persons the peace what was so interests for\n",
      "you word.\"\n",
      "\n",
      "She saw that it was too like a man who was stood in her hands, he said that had\n",
      "come at the money to \n"
     ]
    }
   ],
   "source": [
    "# Sample using a loaded model\n",
    "print(sample(loaded, 2000, top_k=5, prime=\"And Levin said\"))"
   ]
  },
  {
   "cell_type": "code",
   "execution_count": null,
   "metadata": {},
   "outputs": [],
   "source": []
  }
 ],
 "metadata": {
  "kernelspec": {
   "display_name": "Python [conda env:pytorch_171]",
   "language": "python",
   "name": "conda-env-pytorch_171-py"
  },
  "language_info": {
   "codemirror_mode": {
    "name": "ipython",
    "version": 3
   },
   "file_extension": ".py",
   "mimetype": "text/x-python",
   "name": "python",
   "nbconvert_exporter": "python",
   "pygments_lexer": "ipython3",
   "version": "3.8.5"
  }
 },
 "nbformat": 4,
 "nbformat_minor": 2
}
