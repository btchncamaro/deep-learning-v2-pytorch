{
 "cells": [
  {
   "cell_type": "markdown",
   "metadata": {},
   "source": [
    "# Character-Level LSTM in PyTorch\n",
    "\n",
    "In this notebook, I'll construct a character-level LSTM with PyTorch. The network will train character by character on some text, then generate new text character by character. As an example, I will train on Anna Karenina. **This model will be able to generate new text based on the text from the book!**\n",
    "\n",
    "This network is based off of Andrej Karpathy's [post on RNNs](http://karpathy.github.io/2015/05/21/rnn-effectiveness/) and [implementation in Torch](https://github.com/karpathy/char-rnn). Below is the general architecture of the character-wise RNN.\n",
    "\n",
    "<img src=\"assets/charseq.jpeg\" width=\"500\">"
   ]
  },
  {
   "cell_type": "markdown",
   "metadata": {},
   "source": [
    "First let's load in our required resources for data loading and model creation."
   ]
  },
  {
   "cell_type": "code",
   "execution_count": 1,
   "metadata": {},
   "outputs": [],
   "source": [
    "import numpy as np\n",
    "import torch\n",
    "from torch import nn\n",
    "import torch.nn.functional as F"
   ]
  },
  {
   "cell_type": "markdown",
   "metadata": {},
   "source": [
    "## Load in Data\n",
    "\n",
    "Then, we'll load the Anna Karenina text file and convert it into integers for our network to use. "
   ]
  },
  {
   "cell_type": "code",
   "execution_count": 2,
   "metadata": {},
   "outputs": [],
   "source": [
    "# open text file and read in data as `text`\n",
    "with open('data/anna.txt', 'r') as f:\n",
    "    text = f.read()"
   ]
  },
  {
   "cell_type": "markdown",
   "metadata": {},
   "source": [
    "Let's check out the first 100 characters, make sure everything is peachy. According to the [American Book Review](http://americanbookreview.org/100bestlines.asp), this is the 6th best first line of a book ever."
   ]
  },
  {
   "cell_type": "code",
   "execution_count": 3,
   "metadata": {},
   "outputs": [
    {
     "name": "stdout",
     "output_type": "stream",
     "text": [
      "1985223\n",
      "Chapter 1\n",
      "\n",
      "\n",
      "Happy families are all alike; every unhappy family is unhappy in its own\n",
      "way.\n",
      "\n",
      "Everythin\n"
     ]
    }
   ],
   "source": [
    "print(len(text))\n",
    "print(text[:100])\n"
   ]
  },
  {
   "cell_type": "markdown",
   "metadata": {},
   "source": [
    "### Tokenization\n",
    "\n",
    "In the cells, below, I'm creating a couple **dictionaries** to convert the characters to and from integers. Encoding the characters as integers makes it easier to use as input in the network."
   ]
  },
  {
   "cell_type": "code",
   "execution_count": 4,
   "metadata": {},
   "outputs": [
    {
     "name": "stdout",
     "output_type": "stream",
     "text": [
      "chars: ['\\n', ' ', '!', '\"', '$', '%', '&', \"'\", '(', ')', '*', ',', '-', '.', '/', '0', '1', '2', '3', '4', '5', '6', '7', '8', '9', ':', ';', '?', '@', 'A', 'B', 'C', 'D', 'E', 'F', 'G', 'H', 'I', 'J', 'K', 'L', 'M', 'N', 'O', 'P', 'Q', 'R', 'S', 'T', 'U', 'V', 'W', 'X', 'Y', 'Z', '_', '`', 'a', 'b', 'c', 'd', 'e', 'f', 'g', 'h', 'i', 'j', 'k', 'l', 'm', 'n', 'o', 'p', 'q', 'r', 's', 't', 'u', 'v', 'w', 'x', 'y', 'z']\n",
      "\n",
      "int2char: {0: '\\n', 1: ' ', 2: '!', 3: '\"', 4: '$', 5: '%', 6: '&', 7: \"'\", 8: '(', 9: ')', 10: '*', 11: ',', 12: '-', 13: '.', 14: '/', 15: '0', 16: '1', 17: '2', 18: '3', 19: '4', 20: '5', 21: '6', 22: '7', 23: '8', 24: '9', 25: ':', 26: ';', 27: '?', 28: '@', 29: 'A', 30: 'B', 31: 'C', 32: 'D', 33: 'E', 34: 'F', 35: 'G', 36: 'H', 37: 'I', 38: 'J', 39: 'K', 40: 'L', 41: 'M', 42: 'N', 43: 'O', 44: 'P', 45: 'Q', 46: 'R', 47: 'S', 48: 'T', 49: 'U', 50: 'V', 51: 'W', 52: 'X', 53: 'Y', 54: 'Z', 55: '_', 56: '`', 57: 'a', 58: 'b', 59: 'c', 60: 'd', 61: 'e', 62: 'f', 63: 'g', 64: 'h', 65: 'i', 66: 'j', 67: 'k', 68: 'l', 69: 'm', 70: 'n', 71: 'o', 72: 'p', 73: 'q', 74: 'r', 75: 's', 76: 't', 77: 'u', 78: 'v', 79: 'w', 80: 'x', 81: 'y', 82: 'z'}\n",
      "\n",
      "char2int: {'\\n': 0, ' ': 1, '!': 2, '\"': 3, '$': 4, '%': 5, '&': 6, \"'\": 7, '(': 8, ')': 9, '*': 10, ',': 11, '-': 12, '.': 13, '/': 14, '0': 15, '1': 16, '2': 17, '3': 18, '4': 19, '5': 20, '6': 21, '7': 22, '8': 23, '9': 24, ':': 25, ';': 26, '?': 27, '@': 28, 'A': 29, 'B': 30, 'C': 31, 'D': 32, 'E': 33, 'F': 34, 'G': 35, 'H': 36, 'I': 37, 'J': 38, 'K': 39, 'L': 40, 'M': 41, 'N': 42, 'O': 43, 'P': 44, 'Q': 45, 'R': 46, 'S': 47, 'T': 48, 'U': 49, 'V': 50, 'W': 51, 'X': 52, 'Y': 53, 'Z': 54, '_': 55, '`': 56, 'a': 57, 'b': 58, 'c': 59, 'd': 60, 'e': 61, 'f': 62, 'g': 63, 'h': 64, 'i': 65, 'j': 66, 'k': 67, 'l': 68, 'm': 69, 'n': 70, 'o': 71, 'p': 72, 'q': 73, 'r': 74, 's': 75, 't': 76, 'u': 77, 'v': 78, 'w': 79, 'x': 80, 'y': 81, 'z': 82}\n",
      "\n",
      "Chapter 1\n",
      "\n",
      "\n",
      "Happy families are all alike; every unhappy family is unhappy in its own\n",
      "way.\n",
      "\n",
      "Everything was in confusion in the Oblonskys' house. The wife had\n",
      "discovered that the husband was carrying on\n"
     ]
    }
   ],
   "source": [
    "# encode the text and map each character to an integer and vice versa\n",
    "\n",
    "# we create two dictionaries:\n",
    "# 1. int2char, which maps integers to characters\n",
    "# 2. char2int, which maps characters to unique integers\n",
    "chars = tuple(set(text))\n",
    "chars = sorted(chars)\n",
    "print(\"chars: {}\".format(chars))\n",
    "\n",
    "int2char = dict(enumerate(chars))\n",
    "print(\"\\nint2char: {}\".format(int2char))\n",
    "\n",
    "char2int = {ch: ii for ii, ch in int2char.items()}\n",
    "print(\"\\nchar2int: {}\".format(char2int))\n",
    "\n",
    "# encode the text\n",
    "encoded = np.array([char2int[ch] for ch in text])\n",
    "\n",
    "#iterate throught the encoded characters (ints) and convert them back into letters to make sure the \n",
    "#conversions work as expected.\n",
    "test_output = ''\n",
    "for i in range(200):\n",
    "    test_output += int2char[encoded[i]]\n",
    "    \n",
    "print('\\n' + test_output)"
   ]
  },
  {
   "cell_type": "markdown",
   "metadata": {},
   "source": [
    "And we can see those same characters from above, encoded as integers."
   ]
  },
  {
   "cell_type": "code",
   "execution_count": 5,
   "metadata": {},
   "outputs": [
    {
     "data": {
      "text/plain": [
       "array([31, 64, 57, 72, 76, 61, 74,  1, 16,  0,  0,  0, 36, 57, 72, 72, 81,\n",
       "        1, 62, 57, 69, 65, 68, 65, 61, 75,  1, 57, 74, 61,  1, 57, 68, 68,\n",
       "        1, 57, 68, 65, 67, 61, 26,  1, 61, 78, 61, 74, 81,  1, 77, 70, 64,\n",
       "       57, 72, 72, 81,  1, 62, 57, 69, 65, 68, 81,  1, 65, 75,  1, 77, 70,\n",
       "       64, 57, 72, 72, 81,  1, 65, 70,  1, 65, 76, 75,  1, 71, 79, 70,  0,\n",
       "       79, 57, 81, 13,  0,  0, 33, 78, 61, 74, 81, 76, 64, 65, 70])"
      ]
     },
     "execution_count": 5,
     "metadata": {},
     "output_type": "execute_result"
    }
   ],
   "source": [
    "encoded[:100]"
   ]
  },
  {
   "cell_type": "markdown",
   "metadata": {},
   "source": [
    "## Pre-processing the data\n",
    "\n",
    "As you can see in our char-RNN image above, our LSTM expects an input that is **one-hot encoded** meaning that each character is converted into an integer (via our created dictionary) and *then* converted into a column vector where only it's corresponding integer index will have the value of 1 and the rest of the vector will be filled with 0's. Since we're one-hot encoding the data, let's make a function to do that!\n"
   ]
  },
  {
   "cell_type": "code",
   "execution_count": 6,
   "metadata": {},
   "outputs": [
    {
     "name": "stdout",
     "output_type": "stream",
     "text": [
      "[31 64 57 72 76 61 74  1 16  0  0  0 36 57 72 72 81  1 62 57 69 65 68 65\n",
      " 61 75  1 57 74 61  1 57 68 68  1 57 68 65 67 61 26  1 61 78 61 74 81  1\n",
      " 77 70 64 57 72 72 81  1 62 57 69 65 68 81  1 65 75  1 77 70 64 57 72 72\n",
      " 81  1 65 70  1 65 76 75  1 71 79 70  0 79 57 81 13  0  0 33 78 61 74 81\n",
      " 76 64 65 70]\n",
      "\n",
      "Chapter 1\n",
      "\n",
      "\n",
      "Happy families are all alike; every unhappy family is unhappy in its own\n",
      "way.\n",
      "\n",
      "Everythin\n"
     ]
    }
   ],
   "source": [
    "def one_hot_encode(arr, n_labels):\n",
    "    \n",
    "    # Initialize the the encoded array\n",
    "    one_hot = np.zeros((arr.size, n_labels), dtype=np.float32)\n",
    "    \n",
    "    # Fill the appropriate elements with ones\n",
    "    one_hot[np.arange(one_hot.shape[0]), arr.flatten()] = 1.\n",
    "    \n",
    "    # Finally reshape it to get back to the original array\n",
    "    one_hot = one_hot.reshape((*arr.shape, n_labels))\n",
    "    \n",
    "    return one_hot\n",
    "\n",
    "#test it out...\n",
    "#get an array of one-hot arrays representing the first characters in the text\n",
    "test_one_hots = one_hot_encode(encoded[:100], len(chars))\n",
    "#print(test_one_hots)\n",
    "#get the indexes of those one-hots to effectively re-create the encoded array\n",
    "test_encoded_ints = np.argmax(test_one_hots, axis=1)\n",
    "print(test_encoded_ints)\n",
    "#now, loop through the encoded ints to covert back into text and display\n",
    "test_output = ''\n",
    "for i in range(len(test_encoded_ints)):\n",
    "    test_output += int2char[test_encoded_ints[i]]\n",
    "    \n",
    "print('\\n' + test_output)"
   ]
  },
  {
   "cell_type": "code",
   "execution_count": 7,
   "metadata": {},
   "outputs": [
    {
     "name": "stdout",
     "output_type": "stream",
     "text": [
      "[[[0. 0. 0. 1. 0. 0. 0. 0.]\n",
      "  [0. 0. 0. 0. 0. 1. 0. 0.]\n",
      "  [0. 1. 0. 0. 0. 0. 0. 0.]]]\n"
     ]
    }
   ],
   "source": [
    "# check that the function works as expected\n",
    "test_seq = np.array([[3, 5, 1]])\n",
    "one_hot = one_hot_encode(test_seq, 8)\n",
    "\n",
    "print(one_hot)"
   ]
  },
  {
   "cell_type": "markdown",
   "metadata": {},
   "source": [
    "## Making training mini-batches\n",
    "\n",
    "\n",
    "To train on this data, we also want to create mini-batches for training. Remember that we want our batches to be multiple sequences of some desired number of sequence steps. Considering a simple example, our batches would look like this:\n",
    "\n",
    "<img src=\"assets/sequence_batching@1x.png\" width=500px>\n",
    "\n",
    "\n",
    "<br>\n",
    "\n",
    "In this example, we'll take the encoded characters (passed in as the `arr` parameter) and split them into multiple sequences, given by `batch_size`. Each of our sequences will be `seq_length` long.\n",
    "\n",
    "### Creating Batches\n",
    "\n",
    "**1. The first thing we need to do is discard some of the text so we only have completely full mini-batches. **\n",
    "\n",
    "Each batch contains $N \\times M$ characters, where $N$ is the batch size (the number of sequences in a batch) and $M$ is the seq_length or number of time steps in a sequence. Then, to get the total number of batches, $K$, that we can make from the array `arr`, you divide the length of `arr` by the number of characters per batch. Once you know the number of batches, you can get the total number of characters to keep from `arr`, $N * M * K$.\n",
    "\n",
    "**2. After that, we need to split `arr` into $N$ batches. ** \n",
    "\n",
    "You can do this using `arr.reshape(size)` where `size` is a tuple containing the dimensions sizes of the reshaped array. We know we want $N$ sequences in a batch, so let's make that the size of the first dimension. For the second dimension, you can use `-1` as a placeholder in the size, it'll fill up the array with the appropriate data for you. After this, you should have an array that is $N \\times (M * K)$.\n",
    "\n",
    "**3. Now that we have this array, we can iterate through it to get our mini-batches. **\n",
    "\n",
    "The idea is each batch is a $N \\times M$ window on the $N \\times (M * K)$ array. For each subsequent batch, the window moves over by `seq_length`. We also want to create both the input and target arrays. Remember that the targets are just the inputs shifted over by one character. The way I like to do this window is use `range` to take steps of size `n_steps` from $0$ to `arr.shape[1]`, the total number of tokens in each sequence. That way, the integers you get from `range` always point to the start of a batch, and each window is `seq_length` wide.\n",
    "\n",
    "> **TODO:** Write the code for creating batches in the function below. The exercises in this notebook _will not be easy_. I've provided a notebook with solutions alongside this notebook. If you get stuck, checkout the solutions. The most important thing is that you don't copy and paste the code into here, **type out the solution code yourself.**"
   ]
  },
  {
   "cell_type": "code",
   "execution_count": 8,
   "metadata": {},
   "outputs": [],
   "source": [
    "import math\n",
    "\n",
    "def get_batches(arr, batch_size, seq_length):\n",
    "    '''Create a generator that returns batches of size\n",
    "       batch_size x seq_length from arr.\n",
    "       \n",
    "       Arguments\n",
    "       ---------\n",
    "       arr: Array you want to make batches from\n",
    "       batch_size: Batch size, the number of sequences per batch\n",
    "       seq_length: Number of encoded chars in a sequence\n",
    "    '''\n",
    "    ## TODO: Get the number of batches we can make\n",
    "    num_chars_in_batch = batch_size * seq_length\n",
    "    n_batches_k = math.floor(len(arr) / num_chars_in_batch)\n",
    "    \n",
    "    ## TODO: Keep only enough characters to make full batches\n",
    "    #print(\"original array len: {}\".format(len(arr)))\n",
    "    remaining_char_count = len(arr) % (batch_size*seq_length)\n",
    "    final_arr_len = len(arr) - remaining_char_count + 1 #add 1 character to account for y shifting ahead by 1\n",
    "    arr = arr[:final_arr_len]\n",
    "    #print(\"updated array len: {}\".format(len(arr)))\n",
    "    \n",
    "    ## TODO: Reshape into batch_size rows\n",
    "    arr_x = arr[:-1].reshape((batch_size, -1))\n",
    "    arr_y = arr[1:].reshape((batch_size, -1))\n",
    "    \n",
    "    ## TODO: Iterate over the batches using a window of size seq_length\n",
    "    for n in range(0, arr_x.shape[1], seq_length):\n",
    "        # The features\n",
    "        #x = arr_x[n]\n",
    "        x = arr_x[:, n:n+seq_length]\n",
    "        # The targets, shifted by one\n",
    "        #y = arr_y[n]\n",
    "        y = arr_y[:, n:n+seq_length]\n",
    "        yield x, y\n"
   ]
  },
  {
   "cell_type": "markdown",
   "metadata": {},
   "source": [
    "### Test Your Implementation\n",
    "\n",
    "Now I'll make some data sets and we can check out what's going on as we batch data. Here, as an example, I'm going to use a batch size of 8 and 50 sequence steps."
   ]
  },
  {
   "cell_type": "code",
   "execution_count": 9,
   "metadata": {},
   "outputs": [
    {
     "name": "stdout",
     "output_type": "stream",
     "text": [
      "get_batches:\n",
      "x.shape: (8, 50)\n",
      "\n",
      "y.shape: (8, 50)\n"
     ]
    }
   ],
   "source": [
    "print(\"get_batches:\")\n",
    "batches        = get_batches(encoded, 8, 50)\n",
    "\n",
    "x, y = next(batches)\n",
    "\n",
    "print(\"x.shape: {}\".format(x.shape))\n",
    "\n",
    "print(\"\\ny.shape: {}\".format(y.shape))\n",
    "\n",
    "# for (x,y) in batches:\n",
    "#     print(\"mine: x.shape, y.shape: {}, {}\".format(x.shape, y.shape))\n",
    "    \n",
    "# for (x,y) in batches_answer:\n",
    "#     print(\"answer: x.shape, y.shape: {}, {}\".format(x.shape, y.shape))"
   ]
  },
  {
   "cell_type": "code",
   "execution_count": 10,
   "metadata": {},
   "outputs": [
    {
     "name": "stdout",
     "output_type": "stream",
     "text": [
      "x\n",
      " [[31 64 57 72 76 61 74  1 16  0  0  0 36 57 72 72 81  1 62 57 69 65 68 65\n",
      "  61 75  1 57 74 61  1 57 68 68  1 57 68 65 67 61 26  1 61 78 61 74 81  1\n",
      "  77 70]\n",
      " [75 71 70  1 76 64 57 76  1 57 76 76 74 57 59 76 61 60  1 64 61 74  1 57\n",
      "  76 76 61 70 76 65 71 70  1 79 57 75  1 64 61 74  1 64 77 75 58 57 70 60\n",
      "  13  1]\n",
      " [61 70 60  1 71 74  1 57  1 62 71 61 11  1 64 61  1 57 78 71 65 60 61 60\n",
      "   1 64 65 75  1 62 57 76 64 61 74 13  1 36 61  0 68 71 71 67 61 60  1 74\n",
      "  71 77]\n",
      " [75  1 76 64 61  1 59 64 65 61 62  1 76 64 71 77 63 64  1 64 65 60 60 61\n",
      "  70  0 65 70 76 61 74 61 75 76  1 71 62  1 64 65 75  1 68 65 62 61 11  1\n",
      "  71 62]\n",
      " [ 1 75 57 79  1 64 61 74  1 76 61 57 74 12 75 76 57 65 70 61 60 11  1 72\n",
      "  65 76 65 62 77 68 11  1 75 79 61 61 76  1 62 57 59 61 11  0 69 65 75 61\n",
      "  74 57]\n",
      " [59 77 75 75 65 71 70  1 57 70 60  1 57 70 57 68 81 75 65 75 11  1 79 57\n",
      "  75  1 65 70  1 72 74 65 70 59 65 72 68 61  1 60 65 75 57 63 74 61 61 57\n",
      "  58 68]\n",
      " [ 1 29 70 70 57  1 64 57 60  1 75 57 65 60  1 76 64 57 76  1 32 71 68 68\n",
      "  81  1 79 71 77 68 60  1 61 80 59 77 75 61  1 65 76 13  1 29 70 60  1 76\n",
      "  64 65]\n",
      " [43 58 68 71 70 75 67 81 13  1  3 30 77 76  1 55 76 64 61 81 55  1 59 57\n",
      "  70 70 71 76  1 63 74 57 75 72  1 76 64 57 76 11  0 55 76 64 61 81 55  1\n",
      "  57 74]]\n",
      "\n",
      "y\n",
      " [[64 57 72 76 61 74  1 16  0  0]\n",
      " [71 70  1 76 64 57 76  1 57 76]\n",
      " [70 60  1 71 74  1 57  1 62 71]\n",
      " [ 1 76 64 61  1 59 64 65 61 62]\n",
      " [75 57 79  1 64 61 74  1 76 61]\n",
      " [77 75 75 65 71 70  1 57 70 60]\n",
      " [29 70 70 57  1 64 57 60  1 75]\n",
      " [58 68 71 70 75 67 81 13  1  3]]\n",
      "x.shape: (8, 50)\n",
      "y.shape: (8, 50)\n"
     ]
    }
   ],
   "source": [
    "# printing out the first 10 items in a sequence\n",
    "# print('x\\n', x[:10, :10])\n",
    "# print('\\ny\\n', y[:10, :10])\n",
    "#print('x\\n', x[:8, :10])\n",
    "print('x\\n', x)\n",
    "print('\\ny\\n', y[:8, :10])\n",
    "\n",
    "print(\"x.shape: {}\".format(x.shape))\n",
    "print(\"y.shape: {}\".format(y.shape))\n"
   ]
  },
  {
   "cell_type": "markdown",
   "metadata": {},
   "source": [
    "If you implemented `get_batches` correctly, the above output should look something like \n",
    "```\n",
    "x\n",
    " [[25  8 60 11 45 27 28 73  1  2]\n",
    " [17  7 20 73 45  8 60 45 73 60]\n",
    " [27 20 80 73  7 28 73 60 73 65]\n",
    " [17 73 45  8 27 73 66  8 46 27]\n",
    " [73 17 60 12 73  8 27 28 73 45]\n",
    " [66 64 17 17 46  7 20 73 60 20]\n",
    " [73 76 20 20 60 73  8 60 80 73]\n",
    " [47 35 43  7 20 17 24 50 37 73]]\n",
    "\n",
    "y\n",
    " [[ 8 60 11 45 27 28 73  1  2  2]\n",
    " [ 7 20 73 45  8 60 45 73 60 45]\n",
    " [20 80 73  7 28 73 60 73 65  7]\n",
    " [73 45  8 27 73 66  8 46 27 65]\n",
    " [17 60 12 73  8 27 28 73 45 27]\n",
    " [64 17 17 46  7 20 73 60 20 80]\n",
    " [76 20 20 60 73  8 60 80 73 17]\n",
    " [35 43  7 20 17 24 50 37 73 36]]\n",
    " ```\n",
    " although the exact numbers may be different. Check to make sure the data is shifted over one step for `y`."
   ]
  },
  {
   "cell_type": "markdown",
   "metadata": {},
   "source": [
    "---\n",
    "## Defining the network with PyTorch\n",
    "\n",
    "Below is where you'll define the network.\n",
    "\n",
    "<img src=\"assets/charRNN.png\" width=500px>\n",
    "\n",
    "Next, you'll use PyTorch to define the architecture of the network. We start by defining the layers and operations we want. Then, define a method for the forward pass. You've also been given a method for predicting characters."
   ]
  },
  {
   "cell_type": "markdown",
   "metadata": {},
   "source": [
    "### Model Structure\n",
    "\n",
    "In `__init__` the suggested structure is as follows:\n",
    "* Create and store the necessary dictionaries (this has been done for you)\n",
    "* Define an LSTM layer that takes as params: an input size (the number of characters), a hidden layer size `n_hidden`, a number of layers `n_layers`, a dropout probability `drop_prob`, and a batch_first boolean (True, since we are batching)\n",
    "* Define a dropout layer with `drop_prob`\n",
    "* Define a fully-connected layer with params: input size `n_hidden` and output size (the number of characters)\n",
    "* Finally, initialize the weights (again, this has been given)\n",
    "\n",
    "Note that some parameters have been named and given in the `__init__` function, and we use them and store them by doing something like `self.drop_prob = drop_prob`."
   ]
  },
  {
   "cell_type": "markdown",
   "metadata": {},
   "source": [
    "---\n",
    "### LSTM Inputs/Outputs\n",
    "\n",
    "You can create a basic [LSTM layer](https://pytorch.org/docs/stable/nn.html#lstm) as follows\n",
    "\n",
    "```python\n",
    "self.lstm = nn.LSTM(input_size, n_hidden, n_layers, \n",
    "                            dropout=drop_prob, batch_first=True)\n",
    "```\n",
    "\n",
    "where `input_size` is the number of characters this cell expects to see as sequential input, and `n_hidden` is the number of units in the hidden layers in the cell. And we can add dropout by adding a dropout parameter with a specified probability; this will automatically add dropout to the inputs or outputs. Finally, in the `forward` function, we can stack up the LSTM cells into layers using `.view`. With this, you pass in a list of cells and it will send the output of one cell into the next cell.\n",
    "\n",
    "We also need to create an initial hidden state of all zeros. This is done like so\n",
    "\n",
    "```python\n",
    "self.init_hidden()\n",
    "```"
   ]
  },
  {
   "cell_type": "code",
   "execution_count": 11,
   "metadata": {},
   "outputs": [
    {
     "name": "stdout",
     "output_type": "stream",
     "text": [
      "Training on GPU!\n"
     ]
    }
   ],
   "source": [
    "# check if GPU is available\n",
    "train_on_gpu = torch.cuda.is_available()\n",
    "if(train_on_gpu):\n",
    "    print('Training on GPU!')\n",
    "else: \n",
    "    print('No GPU available, training on CPU; consider making n_epochs very small.')"
   ]
  },
  {
   "cell_type": "code",
   "execution_count": 12,
   "metadata": {},
   "outputs": [],
   "source": [
    "class CharRNN(nn.Module):\n",
    "    \n",
    "    def __init__(self, tokens, n_hidden=256, n_layers=2, drop_prob=0.5, lr=0.001):\n",
    "        super().__init__()\n",
    "        self.drop_prob = drop_prob\n",
    "        self.n_layers = n_layers\n",
    "        self.n_hidden = n_hidden\n",
    "        self.lr = lr\n",
    "        \n",
    "        # creating character dictionaries\n",
    "        self.chars = tokens\n",
    "        self.int2char = dict(enumerate(self.chars))\n",
    "        self.char2int = {ch: ii for ii, ch in self.int2char.items()}\n",
    "        \n",
    "        ## TODO: define the layers of the model\n",
    "        #    input_size – The number of expected features in the input x\n",
    "        #    hidden_size – The number of features in the hidden state h\n",
    "        #    num_layers – Number of recurrent layers. E.g., setting num_layers=2 would mean stacking two LSTMs together to form a stacked LSTM, with the second LSTM taking in outputs of the first LSTM and computing the final results. Default: 1\n",
    "        #    bias – If False, then the layer does not use bias weights b_ih and b_hh. Default: True\n",
    "        #    batch_first – If True, then the input and output tensors are provided as (batch, seq, feature). Default: False\n",
    "        #    dropout – If non-zero, introduces a Dropout layer on the outputs of each LSTM layer except the last layer, with dropout probability equal to dropout. Default: 0\n",
    "        #    bidirectional – If True, becomes a bidirectional LSTM. Default: False\n",
    "    \n",
    "        self.lstm = nn.LSTM(len(self.chars), n_hidden, n_layers, dropout=drop_prob, batch_first=True)\n",
    "        \n",
    "        ## TODO: define a dropout layer\n",
    "        self.dropout = nn.Dropout(drop_prob)\n",
    "        \n",
    "        #output.shape: torch.Size([2080, 83])\n",
    "        #targets.shape: torch.Size([32, 65])\n",
    "        self.fc = nn.Linear(n_hidden, len(self.chars))\n",
    "    \n",
    "    def forward(self, x, hidden):\n",
    "        ''' Forward pass through the network. \n",
    "            These inputs are x, and the hidden/cell state `hidden`. '''\n",
    "                \n",
    "        ## TODO: Get the outputs and the new hidden state from the lstm\n",
    "        \n",
    "        # get RNN outputs\n",
    "        r_out, hidden = self.lstm(x, hidden)\n",
    "        \n",
    "        ## TODO: pass through a dropout layer\n",
    "        out = self.dropout(r_out)\n",
    "        \n",
    "        # shape output to be (batch_size*seq_length, hidden_dim)\n",
    "        out = out.contiguous().view(-1, self.n_hidden)  \n",
    "        \n",
    "        # get final output \n",
    "        out = self.fc(out)\n",
    "        \n",
    "        # return the final output and the hidden state\n",
    "        return out, hidden\n",
    "    \n",
    "    \n",
    "    def init_hidden(self, batch_size):\n",
    "        ''' Initializes hidden state '''\n",
    "        # Create two new tensors with sizes n_layers x batch_size x n_hidden,\n",
    "        # initialized to zero, for hidden state and cell state of LSTM\n",
    "        weight = next(self.parameters()).data\n",
    "        \n",
    "        if (train_on_gpu):\n",
    "            hidden = (weight.new(self.n_layers, batch_size, self.n_hidden).zero_().cuda(),\n",
    "                      weight.new(self.n_layers, batch_size, self.n_hidden).zero_().cuda())\n",
    "        else:\n",
    "            hidden = (weight.new(self.n_layers, batch_size, self.n_hidden).zero_(),\n",
    "                      weight.new(self.n_layers, batch_size, self.n_hidden).zero_())\n",
    "        \n",
    "        #print(\"init_hidden: {}\".format(hidden))\n",
    "        return hidden\n",
    "        "
   ]
  },
  {
   "cell_type": "markdown",
   "metadata": {},
   "source": [
    "## Time to train\n",
    "\n",
    "The train function gives us the ability to set the number of epochs, the learning rate, and other parameters.\n",
    "\n",
    "Below we're using an Adam optimizer and cross entropy loss since we are looking at character class scores as output. We calculate the loss and perform backpropagation, as usual!\n",
    "\n",
    "A couple of details about training: \n",
    ">* Within the batch loop, we detach the hidden state from its history; this time setting it equal to a new *tuple* variable because an LSTM has a hidden state that is a tuple of the hidden and cell states.\n",
    "* We use [`clip_grad_norm_`](https://pytorch.org/docs/stable/_modules/torch/nn/utils/clip_grad.html) to help prevent exploding gradients."
   ]
  },
  {
   "cell_type": "code",
   "execution_count": 13,
   "metadata": {},
   "outputs": [],
   "source": [
    "def train(net, data, epochs=10, batch_size=10, seq_length=50, lr=0.001, clip=5, val_frac=0.1, print_every=10):\n",
    "    ''' Training a network \n",
    "    \n",
    "        Arguments\n",
    "        ---------\n",
    "        \n",
    "        net: CharRNN network\n",
    "        data: text data to train the network\n",
    "        epochs: Number of epochs to train\n",
    "        batch_size: Number of mini-sequences per mini-batch, aka batch size\n",
    "        seq_length: Number of character steps per mini-batch\n",
    "        lr: learning rate\n",
    "        clip: gradient clipping\n",
    "        val_frac: Fraction of data to hold out for validation\n",
    "        print_every: Number of steps for printing training and validation loss\n",
    "    \n",
    "    '''\n",
    "    net.train()\n",
    "    \n",
    "    opt = torch.optim.Adam(net.parameters(), lr=lr)\n",
    "    criterion = nn.CrossEntropyLoss()\n",
    "    \n",
    "    # create training and validation data\n",
    "    val_idx = int(len(data)*(1-val_frac))\n",
    "    data, val_data = data[:val_idx], data[val_idx:]\n",
    "    \n",
    "    if(train_on_gpu):\n",
    "        net.cuda()\n",
    "    \n",
    "    counter = 0\n",
    "    n_chars = len(net.chars)\n",
    "    for e in range(epochs):\n",
    "        # initialize hidden state\n",
    "        h = net.init_hidden(batch_size)\n",
    "        \n",
    "        for x, y in get_batches(data, batch_size, seq_length):\n",
    "#             print(\"*** data.shape: {}\".format(data.shape))\n",
    "#             print(\"*** x.shape: {}\".format(x.shape))\n",
    "#             print(\"*** y.shape: {}\".format(y.shape))\n",
    "            \n",
    "            counter += 1\n",
    "            \n",
    "            # One-hot encode our data and make them Torch tensors\n",
    "            x = one_hot_encode(x, n_chars)\n",
    "            inputs, targets = torch.from_numpy(x), torch.from_numpy(y)\n",
    "            \n",
    "            if(train_on_gpu):\n",
    "                inputs, targets = inputs.cuda(), targets.cuda()\n",
    "\n",
    "            # Creating new variables for the hidden state, otherwise\n",
    "            # we'd backprop through the entire training history\n",
    "            h = tuple([each.data for each in h])\n",
    "\n",
    "            # zero accumulated gradients\n",
    "            net.zero_grad()\n",
    "            \n",
    "            # get the output from the model\n",
    "            output, h = net(inputs, h)\n",
    "            \n",
    "            # calculate the loss and perform backprop\n",
    "            \n",
    "#             print(\"output.shape: {}\".format(output.shape))  #output.shape: torch.Size([2080, 83])\n",
    "#             print(\"targets.shape: {}\".format(targets.shape))  #targets.shape: torch.Size([32, 65])\n",
    "#             print(\"batch_size*seq_length: {}\".format(batch_size*seq_length))\n",
    "            \n",
    "            loss = criterion(output, targets.view(batch_size*seq_length).long())\n",
    "            loss.backward()\n",
    "            # `clip_grad_norm` helps prevent the exploding gradient problem in RNNs / LSTMs.\n",
    "            nn.utils.clip_grad_norm_(net.parameters(), clip)\n",
    "            opt.step()\n",
    "            \n",
    "            # loss stats\n",
    "            if counter % print_every == 0:\n",
    "                # Get validation loss\n",
    "                val_h = net.init_hidden(batch_size)\n",
    "                val_losses = []\n",
    "                net.eval()\n",
    "                for x, y in get_batches(val_data, batch_size, seq_length):\n",
    "                    # One-hot encode our data and make them Torch tensors\n",
    "                    x = one_hot_encode(x, n_chars)\n",
    "                    x, y = torch.from_numpy(x), torch.from_numpy(y)\n",
    "                    \n",
    "                    # Creating new variables for the hidden state, otherwise\n",
    "                    # we'd backprop through the entire training history\n",
    "                    val_h = tuple([each.data for each in val_h])\n",
    "                    \n",
    "                    inputs, targets = x, y\n",
    "                    if(train_on_gpu):\n",
    "                        inputs, targets = inputs.cuda(), targets.cuda()\n",
    "\n",
    "                    output, val_h = net(inputs, val_h)\n",
    "                    val_loss = criterion(output, targets.view(batch_size*seq_length).long())\n",
    "                    val_losses.append(val_loss.item())\n",
    "                \n",
    "                net.train() # reset to train mode after iterationg through validation data\n",
    "                \n",
    "                print(\"Epoch: {}/{}...\".format(e+1, epochs),\n",
    "                      \"Step: {}...\".format(counter),\n",
    "                      \"Loss: {:.4f}...\".format(loss.item()),\n",
    "                      \"Val Loss: {:.4f}\".format(np.mean(val_losses)))"
   ]
  },
  {
   "cell_type": "markdown",
   "metadata": {},
   "source": [
    "## Instantiating the model\n",
    "\n",
    "Now we can actually train the network. First we'll create the network itself, with some given hyperparameters. Then, define the mini-batches sizes, and start training!"
   ]
  },
  {
   "cell_type": "code",
   "execution_count": 14,
   "metadata": {},
   "outputs": [
    {
     "name": "stdout",
     "output_type": "stream",
     "text": [
      "CharRNN(\n",
      "  (lstm): LSTM(83, 1024, num_layers=2, batch_first=True, dropout=0.5)\n",
      "  (dropout): Dropout(p=0.5)\n",
      "  (fc): Linear(in_features=1024, out_features=83, bias=True)\n",
      ")\n"
     ]
    }
   ],
   "source": [
    "## TODO: set your model hyperparameters\n",
    "# define and print the net\n",
    "n_hidden=1024\n",
    "n_layers=2\n",
    "\n",
    "net = CharRNN(chars, n_hidden, n_layers)\n",
    "print(net)"
   ]
  },
  {
   "cell_type": "markdown",
   "metadata": {},
   "source": [
    "### Set your training hyperparameters!"
   ]
  },
  {
   "cell_type": "code",
   "execution_count": 15,
   "metadata": {
    "scrolled": true
   },
   "outputs": [
    {
     "name": "stdout",
     "output_type": "stream",
     "text": [
      "Epoch: 1/30... Step: 10... Loss: 3.1638... Val Loss: 3.1403\n",
      "Epoch: 1/30... Step: 20... Loss: 3.1316... Val Loss: 3.1262\n",
      "Epoch: 1/30... Step: 30... Loss: 3.1062... Val Loss: 3.1182\n",
      "Epoch: 1/30... Step: 40... Loss: 3.1036... Val Loss: 3.1120\n",
      "Epoch: 2/30... Step: 50... Loss: 3.0941... Val Loss: 3.1024\n",
      "Epoch: 2/30... Step: 60... Loss: 3.0810... Val Loss: 3.1090\n",
      "Epoch: 2/30... Step: 70... Loss: 3.0748... Val Loss: 3.0673\n",
      "Epoch: 2/30... Step: 80... Loss: 3.0084... Val Loss: 2.9836\n",
      "Epoch: 2/30... Step: 90... Loss: 2.8913... Val Loss: 3.0578\n",
      "Epoch: 3/30... Step: 100... Loss: 2.8530... Val Loss: 2.8445\n",
      "Epoch: 3/30... Step: 110... Loss: 2.7214... Val Loss: 2.7166\n",
      "Epoch: 3/30... Step: 120... Loss: 2.5742... Val Loss: 2.5637\n",
      "Epoch: 3/30... Step: 130... Loss: 2.4864... Val Loss: 2.4687\n",
      "Epoch: 4/30... Step: 140... Loss: 2.4384... Val Loss: 2.4052\n",
      "Epoch: 4/30... Step: 150... Loss: 2.3702... Val Loss: 2.3594\n",
      "Epoch: 4/30... Step: 160... Loss: 2.3268... Val Loss: 2.3066\n",
      "Epoch: 4/30... Step: 170... Loss: 2.2705... Val Loss: 2.2580\n",
      "Epoch: 4/30... Step: 180... Loss: 2.2563... Val Loss: 2.2431\n",
      "Epoch: 5/30... Step: 190... Loss: 2.1898... Val Loss: 2.1859\n",
      "Epoch: 5/30... Step: 200... Loss: 2.1297... Val Loss: 2.1406\n",
      "Epoch: 5/30... Step: 210... Loss: 2.0852... Val Loss: 2.0951\n",
      "Epoch: 5/30... Step: 220... Loss: 2.0604... Val Loss: 2.0617\n",
      "Epoch: 5/30... Step: 230... Loss: 2.0078... Val Loss: 2.0226\n",
      "Epoch: 6/30... Step: 240... Loss: 1.9856... Val Loss: 1.9796\n",
      "Epoch: 6/30... Step: 250... Loss: 1.9441... Val Loss: 1.9399\n",
      "Epoch: 6/30... Step: 260... Loss: 1.8935... Val Loss: 1.9019\n",
      "Epoch: 6/30... Step: 270... Loss: 1.8793... Val Loss: 1.8672\n",
      "Epoch: 7/30... Step: 280... Loss: 1.8205... Val Loss: 1.8354\n",
      "Epoch: 7/30... Step: 290... Loss: 1.8245... Val Loss: 1.8079\n",
      "Epoch: 7/30... Step: 300... Loss: 1.7838... Val Loss: 1.7768\n",
      "Epoch: 7/30... Step: 310... Loss: 1.7477... Val Loss: 1.7472\n",
      "Epoch: 7/30... Step: 320... Loss: 1.7185... Val Loss: 1.7220\n",
      "Epoch: 8/30... Step: 330... Loss: 1.6666... Val Loss: 1.6963\n",
      "Epoch: 8/30... Step: 340... Loss: 1.6639... Val Loss: 1.6736\n",
      "Epoch: 8/30... Step: 350... Loss: 1.6530... Val Loss: 1.6502\n",
      "Epoch: 8/30... Step: 360... Loss: 1.6321... Val Loss: 1.6306\n",
      "Epoch: 9/30... Step: 370... Loss: 1.6160... Val Loss: 1.6206\n",
      "Epoch: 9/30... Step: 380... Loss: 1.5789... Val Loss: 1.6004\n",
      "Epoch: 9/30... Step: 390... Loss: 1.5676... Val Loss: 1.5771\n",
      "Epoch: 9/30... Step: 400... Loss: 1.5558... Val Loss: 1.5633\n",
      "Epoch: 9/30... Step: 410... Loss: 1.5481... Val Loss: 1.5479\n",
      "Epoch: 10/30... Step: 420... Loss: 1.5254... Val Loss: 1.5354\n",
      "Epoch: 10/30... Step: 430... Loss: 1.5005... Val Loss: 1.5235\n",
      "Epoch: 10/30... Step: 440... Loss: 1.4787... Val Loss: 1.5139\n",
      "Epoch: 10/30... Step: 450... Loss: 1.5012... Val Loss: 1.4970\n",
      "Epoch: 10/30... Step: 460... Loss: 1.4609... Val Loss: 1.4870\n",
      "Epoch: 11/30... Step: 470... Loss: 1.4700... Val Loss: 1.4791\n",
      "Epoch: 11/30... Step: 480... Loss: 1.4414... Val Loss: 1.4657\n",
      "Epoch: 11/30... Step: 490... Loss: 1.4197... Val Loss: 1.4580\n",
      "Epoch: 11/30... Step: 500... Loss: 1.4339... Val Loss: 1.4498\n",
      "Epoch: 12/30... Step: 510... Loss: 1.4130... Val Loss: 1.4373\n",
      "Epoch: 12/30... Step: 520... Loss: 1.4200... Val Loss: 1.4319\n",
      "Epoch: 12/30... Step: 530... Loss: 1.4059... Val Loss: 1.4243\n",
      "Epoch: 12/30... Step: 540... Loss: 1.3839... Val Loss: 1.4189\n",
      "Epoch: 12/30... Step: 550... Loss: 1.3868... Val Loss: 1.4147\n",
      "Epoch: 13/30... Step: 560... Loss: 1.3561... Val Loss: 1.4040\n",
      "Epoch: 13/30... Step: 570... Loss: 1.3616... Val Loss: 1.3966\n",
      "Epoch: 13/30... Step: 580... Loss: 1.3622... Val Loss: 1.3916\n",
      "Epoch: 13/30... Step: 590... Loss: 1.3588... Val Loss: 1.3866\n",
      "Epoch: 14/30... Step: 600... Loss: 1.3492... Val Loss: 1.3824\n",
      "Epoch: 14/30... Step: 610... Loss: 1.3295... Val Loss: 1.3780\n",
      "Epoch: 14/30... Step: 620... Loss: 1.3265... Val Loss: 1.3726\n",
      "Epoch: 14/30... Step: 630... Loss: 1.3207... Val Loss: 1.3682\n",
      "Epoch: 14/30... Step: 640... Loss: 1.3308... Val Loss: 1.3633\n",
      "Epoch: 15/30... Step: 650... Loss: 1.3142... Val Loss: 1.3603\n",
      "Epoch: 15/30... Step: 660... Loss: 1.2977... Val Loss: 1.3549\n",
      "Epoch: 15/30... Step: 670... Loss: 1.2858... Val Loss: 1.3578\n",
      "Epoch: 15/30... Step: 680... Loss: 1.3157... Val Loss: 1.3515\n",
      "Epoch: 15/30... Step: 690... Loss: 1.2809... Val Loss: 1.3450\n",
      "Epoch: 16/30... Step: 700... Loss: 1.2917... Val Loss: 1.3394\n",
      "Epoch: 16/30... Step: 710... Loss: 1.2799... Val Loss: 1.3377\n",
      "Epoch: 16/30... Step: 720... Loss: 1.2567... Val Loss: 1.3303\n",
      "Epoch: 16/30... Step: 730... Loss: 1.2729... Val Loss: 1.3330\n",
      "Epoch: 17/30... Step: 740... Loss: 1.2629... Val Loss: 1.3250\n",
      "Epoch: 17/30... Step: 750... Loss: 1.2724... Val Loss: 1.3234\n",
      "Epoch: 17/30... Step: 760... Loss: 1.2571... Val Loss: 1.3190\n",
      "Epoch: 17/30... Step: 770... Loss: 1.2532... Val Loss: 1.3169\n",
      "Epoch: 17/30... Step: 780... Loss: 1.2592... Val Loss: 1.3168\n",
      "Epoch: 18/30... Step: 790... Loss: 1.2326... Val Loss: 1.3179\n",
      "Epoch: 18/30... Step: 800... Loss: 1.2428... Val Loss: 1.3104\n",
      "Epoch: 18/30... Step: 810... Loss: 1.2378... Val Loss: 1.3119\n",
      "Epoch: 18/30... Step: 820... Loss: 1.2382... Val Loss: 1.3073\n",
      "Epoch: 19/30... Step: 830... Loss: 1.2327... Val Loss: 1.3051\n",
      "Epoch: 19/30... Step: 840... Loss: 1.2258... Val Loss: 1.3020\n",
      "Epoch: 19/30... Step: 850... Loss: 1.2212... Val Loss: 1.3016\n",
      "Epoch: 19/30... Step: 860... Loss: 1.2149... Val Loss: 1.2985\n",
      "Epoch: 19/30... Step: 870... Loss: 1.2201... Val Loss: 1.2954\n",
      "Epoch: 20/30... Step: 880... Loss: 1.2101... Val Loss: 1.2870\n",
      "Epoch: 20/30... Step: 890... Loss: 1.1905... Val Loss: 1.2830\n",
      "Epoch: 20/30... Step: 900... Loss: 1.1860... Val Loss: 1.2818\n",
      "Epoch: 20/30... Step: 910... Loss: 1.2133... Val Loss: 1.2757\n",
      "Epoch: 20/30... Step: 920... Loss: 1.1806... Val Loss: 1.2827\n",
      "Epoch: 21/30... Step: 930... Loss: 1.1909... Val Loss: 1.2722\n",
      "Epoch: 21/30... Step: 940... Loss: 1.1812... Val Loss: 1.2692\n",
      "Epoch: 21/30... Step: 950... Loss: 1.1602... Val Loss: 1.2669\n",
      "Epoch: 21/30... Step: 960... Loss: 1.1754... Val Loss: 1.2659\n",
      "Epoch: 22/30... Step: 970... Loss: 1.1592... Val Loss: 1.2577\n",
      "Epoch: 22/30... Step: 980... Loss: 1.1828... Val Loss: 1.2642\n",
      "Epoch: 22/30... Step: 990... Loss: 1.1674... Val Loss: 1.2625\n",
      "Epoch: 22/30... Step: 1000... Loss: 1.1592... Val Loss: 1.2649\n",
      "Epoch: 22/30... Step: 1010... Loss: 1.1586... Val Loss: 1.2533\n",
      "Epoch: 23/30... Step: 1020... Loss: 1.1517... Val Loss: 1.2532\n",
      "Epoch: 23/30... Step: 1030... Loss: 1.1529... Val Loss: 1.2574\n",
      "Epoch: 23/30... Step: 1040... Loss: 1.1483... Val Loss: 1.2535\n",
      "Epoch: 23/30... Step: 1050... Loss: 1.1492... Val Loss: 1.2499\n",
      "Epoch: 24/30... Step: 1060... Loss: 1.1471... Val Loss: 1.2543\n",
      "Epoch: 24/30... Step: 1070... Loss: 1.1412... Val Loss: 1.2449\n",
      "Epoch: 24/30... Step: 1080... Loss: 1.1397... Val Loss: 1.2491\n",
      "Epoch: 24/30... Step: 1090... Loss: 1.1303... Val Loss: 1.2495\n",
      "Epoch: 24/30... Step: 1100... Loss: 1.1481... Val Loss: 1.2493\n",
      "Epoch: 25/30... Step: 1110... Loss: 1.1372... Val Loss: 1.2411\n",
      "Epoch: 25/30... Step: 1120... Loss: 1.1159... Val Loss: 1.2392\n",
      "Epoch: 25/30... Step: 1130... Loss: 1.1015... Val Loss: 1.2378\n",
      "Epoch: 25/30... Step: 1140... Loss: 1.1366... Val Loss: 1.2395\n",
      "Epoch: 25/30... Step: 1150... Loss: 1.1086... Val Loss: 1.2519\n",
      "Epoch: 26/30... Step: 1160... Loss: 1.1261... Val Loss: 1.2410\n",
      "Epoch: 26/30... Step: 1170... Loss: 1.1181... Val Loss: 1.2425\n",
      "Epoch: 26/30... Step: 1180... Loss: 1.0966... Val Loss: 1.2382\n",
      "Epoch: 26/30... Step: 1190... Loss: 1.1113... Val Loss: 1.2398\n",
      "Epoch: 27/30... Step: 1200... Loss: 1.1029... Val Loss: 1.2470\n",
      "Epoch: 27/30... Step: 1210... Loss: 1.1213... Val Loss: 1.2409\n",
      "Epoch: 27/30... Step: 1220... Loss: 1.1084... Val Loss: 1.2387\n",
      "Epoch: 27/30... Step: 1230... Loss: 1.0950... Val Loss: 1.2495\n",
      "Epoch: 27/30... Step: 1240... Loss: 1.1020... Val Loss: 1.2404\n",
      "Epoch: 28/30... Step: 1250... Loss: 1.0928... Val Loss: 1.2416\n",
      "Epoch: 28/30... Step: 1260... Loss: 1.1018... Val Loss: 1.2405\n",
      "Epoch: 28/30... Step: 1270... Loss: 1.0975... Val Loss: 1.2418\n",
      "Epoch: 28/30... Step: 1280... Loss: 1.1019... Val Loss: 1.2349\n",
      "Epoch: 29/30... Step: 1290... Loss: 1.0886... Val Loss: 1.2319\n",
      "Epoch: 29/30... Step: 1300... Loss: 1.0921... Val Loss: 1.2387\n",
      "Epoch: 29/30... Step: 1310... Loss: 1.0863... Val Loss: 1.2429\n",
      "Epoch: 29/30... Step: 1320... Loss: 1.0820... Val Loss: 1.2374\n",
      "Epoch: 29/30... Step: 1330... Loss: 1.0848... Val Loss: 1.2346\n"
     ]
    },
    {
     "name": "stdout",
     "output_type": "stream",
     "text": [
      "Epoch: 30/30... Step: 1340... Loss: 1.0756... Val Loss: 1.2347\n",
      "Epoch: 30/30... Step: 1350... Loss: 1.0706... Val Loss: 1.2409\n",
      "Epoch: 30/30... Step: 1360... Loss: 1.0649... Val Loss: 1.2288\n",
      "Epoch: 30/30... Step: 1370... Loss: 1.0863... Val Loss: 1.2361\n",
      "Epoch: 30/30... Step: 1380... Loss: 1.0630... Val Loss: 1.2314\n"
     ]
    }
   ],
   "source": [
    "batch_size = 128\n",
    "seq_length = 300\n",
    "n_epochs   = 30  #  start small if you are just testing initial behavior\n",
    "\n",
    "#loss stops around epoch 25\n",
    "# n_hidden=1024\n",
    "# n_layers=2\n",
    "# batch_size = 128\n",
    "# seq_length = 300\n",
    "\n",
    "# train the model\n",
    "train(net, encoded, epochs=n_epochs, batch_size=batch_size, seq_length=seq_length, lr=0.001, print_every=10)"
   ]
  },
  {
   "cell_type": "markdown",
   "metadata": {},
   "source": [
    "## Getting the best model\n",
    "\n",
    "To set your hyperparameters to get the best performance, you'll want to watch the training and validation losses. If your training loss is much lower than the validation loss, you're overfitting. Increase regularization (more dropout) or use a smaller network. If the training and validation losses are close, you're underfitting so you can increase the size of the network."
   ]
  },
  {
   "cell_type": "markdown",
   "metadata": {},
   "source": [
    "## Hyperparameters\n",
    "\n",
    "Here are the hyperparameters for the network.\n",
    "\n",
    "In defining the model:\n",
    "* `n_hidden` - The number of units in the hidden layers.\n",
    "* `n_layers` - Number of hidden LSTM layers to use.\n",
    "\n",
    "We assume that dropout probability and learning rate will be kept at the default, in this example.\n",
    "\n",
    "And in training:\n",
    "* `batch_size` - Number of sequences running through the network in one pass.\n",
    "* `seq_length` - Number of characters in the sequence the network is trained on. Larger is better typically, the network will learn more long range dependencies. But it takes longer to train. 100 is typically a good number here.\n",
    "* `lr` - Learning rate for training\n",
    "\n",
    "Here's some good advice from Andrej Karpathy on training the network. I'm going to copy it in here for your benefit, but also link to [where it originally came from](https://github.com/karpathy/char-rnn#tips-and-tricks).\n",
    "\n",
    "> ## Tips and Tricks\n",
    "\n",
    ">### Monitoring Validation Loss vs. Training Loss\n",
    ">If you're somewhat new to Machine Learning or Neural Networks it can take a bit of expertise to get good models. The most important quantity to keep track of is the difference between your training loss (printed during training) and the validation loss (printed once in a while when the RNN is run on the validation data (by default every 1000 iterations)). In particular:\n",
    "\n",
    "> - If your training loss is much lower than validation loss then this means the network might be **overfitting**. Solutions to this are to decrease your network size, or to increase dropout. For example you could try dropout of 0.5 and so on.\n",
    "> - If your training/validation loss are about equal then your model is **underfitting**. Increase the size of your model (either number of layers or the raw number of neurons per layer)\n",
    "\n",
    "> ### Approximate number of parameters\n",
    "\n",
    "> The two most important parameters that control the model are `n_hidden` and `n_layers`. I would advise that you always use `n_layers` of either 2/3. The `n_hidden` can be adjusted based on how much data you have. The two important quantities to keep track of here are:\n",
    "\n",
    "> - The number of parameters in your model. This is printed when you start training.\n",
    "> - The size of your dataset. 1MB file is approximately 1 million characters.\n",
    "\n",
    ">These two should be about the same order of magnitude. It's a little tricky to tell. Here are some examples:\n",
    "\n",
    "> - I have a 100MB dataset and I'm using the default parameter settings (which currently print 150K parameters). My data size is significantly larger (100 mil >> 0.15 mil), so I expect to heavily underfit. I am thinking I can comfortably afford to make `n_hidden` larger.\n",
    "> - I have a 10MB dataset and running a 10 million parameter model. I'm slightly nervous and I'm carefully monitoring my validation loss. If it's larger than my training loss then I may want to try to increase dropout a bit and see if that helps the validation loss.\n",
    "\n",
    "> ### Best models strategy\n",
    "\n",
    ">The winning strategy to obtaining very good models (if you have the compute time) is to always err on making the network larger (as large as you're willing to wait for it to compute) and then try different dropout values (between 0,1). Whatever model has the best validation performance (the loss, written in the checkpoint filename, low is good) is the one you should use in the end.\n",
    "\n",
    ">It is very common in deep learning to run many different models with many different hyperparameter settings, and in the end take whatever checkpoint gave the best validation performance.\n",
    "\n",
    ">By the way, the size of your training and validation splits are also parameters. Make sure you have a decent amount of data in your validation set or otherwise the validation performance will be noisy and not very informative."
   ]
  },
  {
   "cell_type": "markdown",
   "metadata": {},
   "source": [
    "## Checkpoint\n",
    "\n",
    "After training, we'll save the model so we can load it again later if we need too. Here I'm saving the parameters needed to create the same architecture, the hidden layer hyperparameters and the text characters."
   ]
  },
  {
   "cell_type": "code",
   "execution_count": 16,
   "metadata": {},
   "outputs": [],
   "source": [
    "# change the name, for saving multiple files\n",
    "model_name = 'rnn_x_epoch.net'\n",
    "\n",
    "checkpoint = {'n_hidden': net.n_hidden,\n",
    "              'n_layers': net.n_layers,\n",
    "              'state_dict': net.state_dict(),\n",
    "              'tokens': net.chars}\n",
    "\n",
    "with open(model_name, 'wb') as f:\n",
    "    torch.save(checkpoint, f)"
   ]
  },
  {
   "cell_type": "markdown",
   "metadata": {},
   "source": [
    "---\n",
    "## Making Predictions\n",
    "\n",
    "Now that the model is trained, we'll want to sample from it and make predictions about next characters! To sample, we pass in a character and have the network predict the next character. Then we take that character, pass it back in, and get another predicted character. Just keep doing this and you'll generate a bunch of text!\n",
    "\n",
    "### A note on the `predict`  function\n",
    "\n",
    "The output of our RNN is from a fully-connected layer and it outputs a **distribution of next-character scores**.\n",
    "\n",
    "> To actually get the next character, we apply a softmax function, which gives us a *probability* distribution that we can then sample to predict the next character.\n",
    "\n",
    "### Top K sampling\n",
    "\n",
    "Our predictions come from a categorical probability distribution over all the possible characters. We can make the sample text and make it more reasonable to handle (with less variables) by only considering some $K$ most probable characters. This will prevent the network from giving us completely absurd characters while allowing it to introduce some noise and randomness into the sampled text. Read more about [topk, here](https://pytorch.org/docs/stable/torch.html#torch.topk).\n"
   ]
  },
  {
   "cell_type": "code",
   "execution_count": 59,
   "metadata": {},
   "outputs": [],
   "source": [
    "def predict(net, char, h=None, top_k=None):\n",
    "        ''' Given a character, predict the next character.\n",
    "            Returns the predicted character and the hidden state.\n",
    "        '''\n",
    "        \n",
    "        # tensor inputs\n",
    "        x = np.array([[net.char2int[char]]])\n",
    "        x = one_hot_encode(x, len(net.chars))\n",
    "        inputs = torch.from_numpy(x)\n",
    "        \n",
    "        if(train_on_gpu):\n",
    "            inputs = inputs.cuda()\n",
    "        \n",
    "        # detach hidden state from history\n",
    "        h = tuple([each.data for each in h])\n",
    "        # get the output of the model\n",
    "        out, h = net(inputs, h)\n",
    "\n",
    "        # get the character probabilities\n",
    "        p = F.softmax(out, dim=1).data\n",
    "        if(train_on_gpu):\n",
    "            p = p.cpu() # move to cpu\n",
    "        \n",
    "        # get top characters\n",
    "        if top_k is None:\n",
    "            top_ch = np.arange(len(net.chars))\n",
    "        else:\n",
    "            p, top_ch = p.topk(top_k)\n",
    "            top_ch = top_ch.numpy().squeeze()\n",
    "        \n",
    "        # select the likely next character with some element of randomness\n",
    "        p = p.numpy().squeeze()\n",
    "        char = np.random.choice(top_ch, p=p/p.sum())\n",
    "        \n",
    "#         print(top_ch)\n",
    "#         print(char)\n",
    "#         char = np.max(top_ch)\n",
    "#         print(char)\n",
    "        \n",
    "        # return the encoded value of the predicted char and the hidden state\n",
    "        return net.int2char[char], h"
   ]
  },
  {
   "cell_type": "markdown",
   "metadata": {},
   "source": [
    "### Priming and generating text \n",
    "\n",
    "Typically you'll want to prime the network so you can build up a hidden state. Otherwise the network will start out generating characters at random. In general the first bunch of characters will be a little rough since it hasn't built up a long history of characters to predict from."
   ]
  },
  {
   "cell_type": "code",
   "execution_count": 60,
   "metadata": {},
   "outputs": [],
   "source": [
    "def sample(net, size, prime='walked', top_k=None):\n",
    "        \n",
    "    if(train_on_gpu):\n",
    "        net.cuda()\n",
    "    else:\n",
    "        net.cpu()\n",
    "    \n",
    "    net.eval() # eval mode\n",
    "    \n",
    "    # First off, run through the prime characters\n",
    "    chars = [ch for ch in prime]\n",
    "    h = net.init_hidden(1)\n",
    "    for ch in prime:\n",
    "        char, h = predict(net, ch, h, top_k=top_k)\n",
    "\n",
    "    chars.append(char)\n",
    "    \n",
    "    # Now pass in the previous character and get a new one\n",
    "    for ii in range(size):\n",
    "        char, h = predict(net, chars[-1], h, top_k=top_k)\n",
    "        chars.append(char)\n",
    "\n",
    "    return ''.join(chars)"
   ]
  },
  {
   "cell_type": "code",
   "execution_count": 65,
   "metadata": {},
   "outputs": [
    {
     "name": "stdout",
     "output_type": "stream",
     "text": [
      "ther and some\n",
      "senting of the country, which was all the same thing. He was so\n",
      "pretty for this sorrow with his wife, he could said him to see her\n",
      "to the country with her sister and the care of the carriage to\n",
      "his wife, and that his brother was a sense of things and the conviction\n",
      "to the same thing of his son and her fourdeness and all of them.\n",
      "\n",
      "\"What does it was to be so strange that I am not a state of interest\n",
      "in the same thing. And that's not a little through, and I should be\n",
      "sure, I want to tell you that it would be so much there and her heart. I always\n",
      "dress and done any contrast in his soul. I am so glad that they all man\n",
      "go to the princess and that you will see the same thing, and that's not\n",
      "a sort of despair, and I'll go and see, as I am a strength and to see you,\n",
      "and I won't go on to the country.\" Alexey Alexandrovitch said, \"I don't\n",
      "understand, I wouldn't believe it,\" she said to herself. Her hand of her\n",
      "hair was saying, \"I don't know what they would have,\" said Stepan\n",
      "Arkadyevitch, with a smile of self-content of the carriage and too\n",
      "look at him and was standing at her husband, and she was so\n",
      "particularly coming to him.\n",
      "\n",
      "\"Well when you were there in the same as you are to blame me and I see\n",
      "the country and then and to see her, but the country was to be\n",
      "such a peasant, and I shall not have been at a long while,\"\n",
      "she said in a short, and to take her husband and her soun.\n",
      "\n",
      "\"It was a little thing I can't see her, and I shall not be so glad\n",
      "I was always to be sure that it was the same to you to tell you\n",
      "that it would be a little of all, the children are no sort of the care and\n",
      "thoughts. It's all the same thing.\"\n",
      "\n",
      "\"You're all the contempt,\" said Sergey Ivanovitch, and he was so good\n",
      "the sumerous into the courtesy and the country with a smile.\n",
      "\n",
      "\"Well, what do you said that?\" said Levin. \"I don't understand,\" he said,\n",
      "watching his study to her shoulders. \"Well, what is it is it to see you\n",
      "and then to be such a child, and the man of his official districts and\n",
      "the samila in the carriage, and I won't believe that this would be\n",
      "so much for the secret of the country, will be all the same to the\n",
      "country, who have no really done and so much that it was that in her\n",
      "hands and have a love with her that he had not been to see him, but I\n",
      "can't believe it with her and so stay a little to the principles that\n",
      "was a special strength of things to be a serious face. I wanted to see his\n",
      "work. And then all the same thing was a little, but there are so much\n",
      "there are not to see him, but that is it were to see him and the same\n",
      "thing. And the man something is the care of the country, and I could not\n",
      "have said that it was a strength, a moment of the peasant women. I should\n",
      "be a long while to her mother.\"\n",
      "\n",
      "\"Well, the most important, to me to see you to be sure you want, and I\n",
      "can't be interested in the contrary, I should be a long while and work\n",
      "and think about in a love for the children, while the consciousness\n",
      "when he's a love with his, and to say to him that he's not a sort of\n",
      "contempt of the provincial people, and he's not a little and the same\n",
      "thing. And then the consciousness of the principles we have a little on\n",
      "the cause. It's all the same,\" said Stepan Arkadyevitch, smiling at\n",
      "her husband, \"why do you say than you're all the children?\"\n",
      "\n",
      "And the sick man was still more at the service, and he was so greeting\n",
      "that the princess was a state of thing to the peasants who had been\n",
      "standing at her, she saw the children and thought, and his father and\n",
      "his soul, and the country had been a sense of his own hands, and he had\n",
      "not to be so sorry to her. He had not helped the country, which was\n",
      "a little all, and was all the children, who was still the child that they\n",
      "wanted to be so goid to him, and he would not have been attracting the\n",
      "second to the people who was all all the same that she was so much to\n",
      "set to his mother, as though she had not been all to see her to her. He had\n",
      "not helped him and said to her as he was so much that he was an answer,\n",
      "and he was a good humor, and was so sort of the summer that he was\n",
      "so greatly as to think, that this was not a strange fellow, and that\n",
      "he was all than the sort of peasant which she had not been all the world\n",
      "with him.\n",
      "\n",
      "\"What's the same thing? I am so glad I am a great deal of this and more\n",
      "than your husband. I see that it's all the sort, or where it was the\n",
      "marshal of the country, and that is to be a little, and to see her to\n",
      "her to her. He was so glad you were to see her and to be sure to be a\n",
      "little and set to me,\" said Levin. \"What does it is to be so strangely\n",
      "to see you,\" she said, and he went into the door of her hand.\n",
      "\n",
      "\"I am not a little and so many men,\" he said to himself.\n",
      "\n",
      "\"What are you to be asking you, and I want to see you, I'm going,\" she\n",
      "said, and went out.\n",
      "\n",
      "\"Why, what do you say it was all of your confession, I'll see him, and\n",
      "then I'm not thinking of the contrary.\"\n",
      "\n",
      "\"You can do,\" said Stepan Arkadyevitch, with a smile of strange smile\n",
      "and handing her the children who had said \n"
     ]
    }
   ],
   "source": [
    "print(sample(net, 5000, prime='the', top_k=2))"
   ]
  },
  {
   "cell_type": "code",
   "execution_count": null,
   "metadata": {},
   "outputs": [],
   "source": []
  },
  {
   "cell_type": "markdown",
   "metadata": {},
   "source": [
    "## Loading a checkpoint"
   ]
  },
  {
   "cell_type": "code",
   "execution_count": 20,
   "metadata": {},
   "outputs": [
    {
     "data": {
      "text/plain": [
       "IncompatibleKeys(missing_keys=[], unexpected_keys=[])"
      ]
     },
     "execution_count": 20,
     "metadata": {},
     "output_type": "execute_result"
    }
   ],
   "source": [
    "# Here we have loaded in a model that trained over 20 epochs `rnn_20_epoch.net`\n",
    "with open('rnn_x_epoch.net', 'rb') as f:\n",
    "    checkpoint = torch.load(f)\n",
    "    \n",
    "loaded = CharRNN(checkpoint['tokens'], n_hidden=checkpoint['n_hidden'], n_layers=checkpoint['n_layers'])\n",
    "loaded.load_state_dict(checkpoint['state_dict'])"
   ]
  },
  {
   "cell_type": "code",
   "execution_count": null,
   "metadata": {
    "collapsed": true
   },
   "outputs": [],
   "source": [
    "# Sample using a loaded model\n",
    "print(sample(loaded, 2000, top_k=5, prime=\"And Levin said\"))"
   ]
  },
  {
   "cell_type": "code",
   "execution_count": null,
   "metadata": {
    "collapsed": true
   },
   "outputs": [],
   "source": []
  }
 ],
 "metadata": {
  "kernelspec": {
   "display_name": "Python [conda env:pytorch] *",
   "language": "python",
   "name": "conda-env-pytorch-py"
  },
  "language_info": {
   "codemirror_mode": {
    "name": "ipython",
    "version": 3
   },
   "file_extension": ".py",
   "mimetype": "text/x-python",
   "name": "python",
   "nbconvert_exporter": "python",
   "pygments_lexer": "ipython3",
   "version": "3.7.5"
  }
 },
 "nbformat": 4,
 "nbformat_minor": 2
}
